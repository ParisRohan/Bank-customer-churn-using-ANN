{
 "cells": [
  {
   "cell_type": "markdown",
   "id": "d7f2f1e8",
   "metadata": {
    "id": "OgKTSi-c_47Q",
    "papermill": {
     "duration": 0.014248,
     "end_time": "2022-05-30T06:40:25.825734",
     "exception": false,
     "start_time": "2022-05-30T06:40:25.811486",
     "status": "completed"
    },
    "tags": []
   },
   "source": [
    "## What is Customer churn?\n",
    "* Customer attrition, also known as customer churn, customer turnover, or customer defection, is the loss of clients or customers. A high churn means that a higher number of customers no longer want to purchase goods and services from the business. The customer churn rate can be calculated by dividing the total number of customers who have left the service by the total number of active customers present at the start of the period. For example, if you got 1000 customers and lost 50 last month, your monthly churn rate is 5 percent.\n",
    "* The primary objective of building a customer churn predictive model is to retain customers at the highest risk of churn by proactively engaging with them. For example: Offer a gift voucher or any promotional pricing and lock them in for an additional year or two to extend their lifetime value to the company."
   ]
  },
  {
   "cell_type": "markdown",
   "id": "50b85e81",
   "metadata": {
    "id": "L-HhtLMqApVx",
    "papermill": {
     "duration": 0.011101,
     "end_time": "2022-05-30T06:40:25.848946",
     "exception": false,
     "start_time": "2022-05-30T06:40:25.837845",
     "status": "completed"
    },
    "tags": []
   },
   "source": [
    "<a id=0></a>\n",
    "## [Introduction](#0)\n",
    "Bank customer churn prediction using ANN\n",
    "\n",
    "## Workflow\n",
    "\n",
    "1. [Data collection and initial analysis](#1)\n",
    "2. [EDA](#2)\n",
    "3. [Data-preprocessing](#3)\n",
    "4. [Model building](#4)\n",
    "5. [Test data predictions](#5)"
   ]
  },
  {
   "cell_type": "markdown",
   "id": "d0278dac",
   "metadata": {
    "id": "tAVZIOWZAwVf",
    "papermill": {
     "duration": 0.010888,
     "end_time": "2022-05-30T06:40:25.871271",
     "exception": false,
     "start_time": "2022-05-30T06:40:25.860383",
     "status": "completed"
    },
    "tags": []
   },
   "source": [
    "<a id=1></a> \n",
    "## 1. Data collection and initial analysis"
   ]
  },
  {
   "cell_type": "code",
   "execution_count": 1,
   "id": "2b8ef0c8",
   "metadata": {
    "execution": {
     "iopub.execute_input": "2022-05-30T06:40:25.896385Z",
     "iopub.status.busy": "2022-05-30T06:40:25.895673Z",
     "iopub.status.idle": "2022-05-30T06:40:25.900635Z",
     "shell.execute_reply": "2022-05-30T06:40:25.899950Z"
    },
    "id": "oSYBLoq-BKWE",
    "outputId": "ff79cf18-0215-493d-cf34-be2ff2f5194f",
    "papermill": {
     "duration": 0.019757,
     "end_time": "2022-05-30T06:40:25.902570",
     "exception": false,
     "start_time": "2022-05-30T06:40:25.882813",
     "status": "completed"
    },
    "tags": []
   },
   "outputs": [],
   "source": [
    "#!pip install tensorflow-gpu"
   ]
  },
  {
   "cell_type": "code",
   "execution_count": 2,
   "id": "ea3d9cd2",
   "metadata": {
    "execution": {
     "iopub.execute_input": "2022-05-30T06:40:25.927751Z",
     "iopub.status.busy": "2022-05-30T06:40:25.927078Z",
     "iopub.status.idle": "2022-05-30T06:40:34.851801Z",
     "shell.execute_reply": "2022-05-30T06:40:34.850694Z"
    },
    "id": "k2xrMRgx_43y",
    "papermill": {
     "duration": 8.940473,
     "end_time": "2022-05-30T06:40:34.854679",
     "exception": false,
     "start_time": "2022-05-30T06:40:25.914206",
     "status": "completed"
    },
    "tags": []
   },
   "outputs": [
    {
     "name": "stdout",
     "output_type": "stream",
     "text": [
      "/kaggle/input/churn-for-bank-customers/churn.csv\n"
     ]
    }
   ],
   "source": [
    "#Import required libraries\n",
    "\n",
    "#Computing libraries\n",
    "import pandas as pd\n",
    "import numpy as np\n",
    "\n",
    "#Visualizations library\n",
    "import matplotlib.pyplot as plt\n",
    "import seaborn as sns\n",
    "plt.style.use(\"seaborn-whitegrid\")\n",
    "%matplotlib inline\n",
    "\n",
    "#Model building libraries\n",
    "from sklearn.model_selection import train_test_split\n",
    "from sklearn.preprocessing import StandardScaler\n",
    "\n",
    "#Deep learning libraries\n",
    "import tensorflow as tf\n",
    "\n",
    "#DL library to use forward and backward propogation\n",
    "from tensorflow.keras.models import Sequential\n",
    "\n",
    "#DL library to build input/hidden/output layers\n",
    "from tensorflow.keras.layers import Dense\n",
    "\n",
    "#DL library to prevent overfitting\n",
    "from tensorflow.keras.layers import Dropout\n",
    "\n",
    "#DL library to use activation function\n",
    "from tensorflow.keras.layers import LeakyReLU, ReLU\n",
    "\n",
    "#DL library to use optimizer\n",
    "from tensorflow.keras.optimizers import Adam\n",
    "\n",
    "#Performance metrics\n",
    "from sklearn.metrics import confusion_matrix, accuracy_score, classification_report\n",
    "\n",
    "#import library used for counting the number of observations\n",
    "from collections import Counter\n",
    "\n",
    "#import library to perform resampling\n",
    "from imblearn.over_sampling import SMOTE\n",
    "\n",
    "import warnings\n",
    "warnings.filterwarnings('ignore')\n",
    "\n",
    "import os\n",
    "for dirname, _, filenames in os.walk('/kaggle/input'):\n",
    "    for filename in filenames:\n",
    "        print(os.path.join(dirname, filename))"
   ]
  },
  {
   "cell_type": "code",
   "execution_count": 3,
   "id": "2622e1b9",
   "metadata": {
    "execution": {
     "iopub.execute_input": "2022-05-30T06:40:34.880670Z",
     "iopub.status.busy": "2022-05-30T06:40:34.879639Z",
     "iopub.status.idle": "2022-05-30T06:40:34.886378Z",
     "shell.execute_reply": "2022-05-30T06:40:34.884983Z"
    },
    "id": "iC-Toq00_408",
    "outputId": "6028b0fd-d91c-4689-98c9-82f887c3e520",
    "papermill": {
     "duration": 0.022571,
     "end_time": "2022-05-30T06:40:34.888824",
     "exception": false,
     "start_time": "2022-05-30T06:40:34.866253",
     "status": "completed"
    },
    "tags": []
   },
   "outputs": [
    {
     "name": "stdout",
     "output_type": "stream",
     "text": [
      "2.6.4\n"
     ]
    }
   ],
   "source": [
    "#Check the installed tensorflow version\n",
    "print(tf.__version__)"
   ]
  },
  {
   "cell_type": "code",
   "execution_count": null,
   "id": "c9114530",
   "metadata": {
    "papermill": {
     "duration": 0.010951,
     "end_time": "2022-05-30T06:40:34.911262",
     "exception": false,
     "start_time": "2022-05-30T06:40:34.900311",
     "status": "completed"
    },
    "tags": []
   },
   "outputs": [],
   "source": []
  },
  {
   "cell_type": "code",
   "execution_count": 4,
   "id": "95bcd040",
   "metadata": {
    "execution": {
     "iopub.execute_input": "2022-05-30T06:40:34.936792Z",
     "iopub.status.busy": "2022-05-30T06:40:34.935652Z",
     "iopub.status.idle": "2022-05-30T06:40:35.013769Z",
     "shell.execute_reply": "2022-05-30T06:40:35.012456Z"
    },
    "id": "bNMk3pk1_4yP",
    "outputId": "1955589e-f785-4ab5-97e0-07ae0bbcec7f",
    "papermill": {
     "duration": 0.094192,
     "end_time": "2022-05-30T06:40:35.016817",
     "exception": false,
     "start_time": "2022-05-30T06:40:34.922625",
     "status": "completed"
    },
    "tags": []
   },
   "outputs": [
    {
     "data": {
      "text/html": [
       "<div>\n",
       "<style scoped>\n",
       "    .dataframe tbody tr th:only-of-type {\n",
       "        vertical-align: middle;\n",
       "    }\n",
       "\n",
       "    .dataframe tbody tr th {\n",
       "        vertical-align: top;\n",
       "    }\n",
       "\n",
       "    .dataframe thead th {\n",
       "        text-align: right;\n",
       "    }\n",
       "</style>\n",
       "<table border=\"1\" class=\"dataframe\">\n",
       "  <thead>\n",
       "    <tr style=\"text-align: right;\">\n",
       "      <th></th>\n",
       "      <th>RowNumber</th>\n",
       "      <th>CustomerId</th>\n",
       "      <th>Surname</th>\n",
       "      <th>CreditScore</th>\n",
       "      <th>Geography</th>\n",
       "      <th>Gender</th>\n",
       "      <th>Age</th>\n",
       "      <th>Tenure</th>\n",
       "      <th>Balance</th>\n",
       "      <th>NumOfProducts</th>\n",
       "      <th>HasCrCard</th>\n",
       "      <th>IsActiveMember</th>\n",
       "      <th>EstimatedSalary</th>\n",
       "      <th>Exited</th>\n",
       "    </tr>\n",
       "  </thead>\n",
       "  <tbody>\n",
       "    <tr>\n",
       "      <th>0</th>\n",
       "      <td>1</td>\n",
       "      <td>15634602</td>\n",
       "      <td>Hargrave</td>\n",
       "      <td>619</td>\n",
       "      <td>France</td>\n",
       "      <td>Female</td>\n",
       "      <td>42</td>\n",
       "      <td>2</td>\n",
       "      <td>0.00</td>\n",
       "      <td>1</td>\n",
       "      <td>1</td>\n",
       "      <td>1</td>\n",
       "      <td>101348.88</td>\n",
       "      <td>1</td>\n",
       "    </tr>\n",
       "    <tr>\n",
       "      <th>1</th>\n",
       "      <td>2</td>\n",
       "      <td>15647311</td>\n",
       "      <td>Hill</td>\n",
       "      <td>608</td>\n",
       "      <td>Spain</td>\n",
       "      <td>Female</td>\n",
       "      <td>41</td>\n",
       "      <td>1</td>\n",
       "      <td>83807.86</td>\n",
       "      <td>1</td>\n",
       "      <td>0</td>\n",
       "      <td>1</td>\n",
       "      <td>112542.58</td>\n",
       "      <td>0</td>\n",
       "    </tr>\n",
       "    <tr>\n",
       "      <th>2</th>\n",
       "      <td>3</td>\n",
       "      <td>15619304</td>\n",
       "      <td>Onio</td>\n",
       "      <td>502</td>\n",
       "      <td>France</td>\n",
       "      <td>Female</td>\n",
       "      <td>42</td>\n",
       "      <td>8</td>\n",
       "      <td>159660.80</td>\n",
       "      <td>3</td>\n",
       "      <td>1</td>\n",
       "      <td>0</td>\n",
       "      <td>113931.57</td>\n",
       "      <td>1</td>\n",
       "    </tr>\n",
       "    <tr>\n",
       "      <th>3</th>\n",
       "      <td>4</td>\n",
       "      <td>15701354</td>\n",
       "      <td>Boni</td>\n",
       "      <td>699</td>\n",
       "      <td>France</td>\n",
       "      <td>Female</td>\n",
       "      <td>39</td>\n",
       "      <td>1</td>\n",
       "      <td>0.00</td>\n",
       "      <td>2</td>\n",
       "      <td>0</td>\n",
       "      <td>0</td>\n",
       "      <td>93826.63</td>\n",
       "      <td>0</td>\n",
       "    </tr>\n",
       "    <tr>\n",
       "      <th>4</th>\n",
       "      <td>5</td>\n",
       "      <td>15737888</td>\n",
       "      <td>Mitchell</td>\n",
       "      <td>850</td>\n",
       "      <td>Spain</td>\n",
       "      <td>Female</td>\n",
       "      <td>43</td>\n",
       "      <td>2</td>\n",
       "      <td>125510.82</td>\n",
       "      <td>1</td>\n",
       "      <td>1</td>\n",
       "      <td>1</td>\n",
       "      <td>79084.10</td>\n",
       "      <td>0</td>\n",
       "    </tr>\n",
       "  </tbody>\n",
       "</table>\n",
       "</div>"
      ],
      "text/plain": [
       "   RowNumber  CustomerId   Surname  CreditScore Geography  Gender  Age  \\\n",
       "0          1    15634602  Hargrave          619    France  Female   42   \n",
       "1          2    15647311      Hill          608     Spain  Female   41   \n",
       "2          3    15619304      Onio          502    France  Female   42   \n",
       "3          4    15701354      Boni          699    France  Female   39   \n",
       "4          5    15737888  Mitchell          850     Spain  Female   43   \n",
       "\n",
       "   Tenure    Balance  NumOfProducts  HasCrCard  IsActiveMember  \\\n",
       "0       2       0.00              1          1               1   \n",
       "1       1   83807.86              1          0               1   \n",
       "2       8  159660.80              3          1               0   \n",
       "3       1       0.00              2          0               0   \n",
       "4       2  125510.82              1          1               1   \n",
       "\n",
       "   EstimatedSalary  Exited  \n",
       "0        101348.88       1  \n",
       "1        112542.58       0  \n",
       "2        113931.57       1  \n",
       "3         93826.63       0  \n",
       "4         79084.10       0  "
      ]
     },
     "execution_count": 4,
     "metadata": {},
     "output_type": "execute_result"
    }
   ],
   "source": [
    "#dataset link='https://www.kaggle.com/datasets/mathchi/churn-for-bank-customers'\n",
    "\n",
    "#load the dataset\n",
    "df_data = pd.read_csv('/kaggle/input/churn-for-bank-customers/churn.csv')\n",
    "df_data.head()"
   ]
  },
  {
   "cell_type": "code",
   "execution_count": 5,
   "id": "5cfaf284",
   "metadata": {
    "execution": {
     "iopub.execute_input": "2022-05-30T06:40:35.045090Z",
     "iopub.status.busy": "2022-05-30T06:40:35.043625Z",
     "iopub.status.idle": "2022-05-30T06:40:35.084617Z",
     "shell.execute_reply": "2022-05-30T06:40:35.082155Z"
    },
    "id": "fQFHRl-u_4vd",
    "outputId": "6aed0c8c-5451-44dc-bf7c-eca0d2313418",
    "papermill": {
     "duration": 0.058135,
     "end_time": "2022-05-30T06:40:35.087416",
     "exception": false,
     "start_time": "2022-05-30T06:40:35.029281",
     "status": "completed"
    },
    "tags": []
   },
   "outputs": [
    {
     "name": "stdout",
     "output_type": "stream",
     "text": [
      "<class 'pandas.core.frame.DataFrame'>\n",
      "RangeIndex: 10000 entries, 0 to 9999\n",
      "Data columns (total 14 columns):\n",
      " #   Column           Non-Null Count  Dtype  \n",
      "---  ------           --------------  -----  \n",
      " 0   RowNumber        10000 non-null  int64  \n",
      " 1   CustomerId       10000 non-null  int64  \n",
      " 2   Surname          10000 non-null  object \n",
      " 3   CreditScore      10000 non-null  int64  \n",
      " 4   Geography        10000 non-null  object \n",
      " 5   Gender           10000 non-null  object \n",
      " 6   Age              10000 non-null  int64  \n",
      " 7   Tenure           10000 non-null  int64  \n",
      " 8   Balance          10000 non-null  float64\n",
      " 9   NumOfProducts    10000 non-null  int64  \n",
      " 10  HasCrCard        10000 non-null  int64  \n",
      " 11  IsActiveMember   10000 non-null  int64  \n",
      " 12  EstimatedSalary  10000 non-null  float64\n",
      " 13  Exited           10000 non-null  int64  \n",
      "dtypes: float64(2), int64(9), object(3)\n",
      "memory usage: 1.1+ MB\n"
     ]
    }
   ],
   "source": [
    "df_data.info()"
   ]
  },
  {
   "cell_type": "markdown",
   "id": "11ee629a",
   "metadata": {
    "id": "NPa_8ETHCf5n",
    "papermill": {
     "duration": 0.017141,
     "end_time": "2022-05-30T06:40:35.118794",
     "exception": false,
     "start_time": "2022-05-30T06:40:35.101653",
     "status": "completed"
    },
    "tags": []
   },
   "source": [
    "### Feature Description:\n",
    "\n",
    "* RowNumber—corresponds to the record (row) number and has no effect on the output.\n",
    "* CustomerId—contains random values and has no effect on customer leaving the bank.\n",
    "* Surname—the surname of a customer has no impact on their decision to leave the bank.\n",
    "* CreditScore—can have an effect on customer churn, since a customer with a higher credit score is less likely to leave the bank.\n",
    "* Geography—a customer’s location can affect their decision to leave the bank.\n",
    "* Gender—it’s interesting to explore whether gender plays a role in a customer leaving the bank.\n",
    "* Age—this is certainly relevant, since older customers are less likely to leave their bank than younger ones.\n",
    "* Tenure—refers to the number of years that the customer has been a client of the bank. Normally, older clients are more loyal and less likely to leave a bank.\n",
    "* Balance—also a very good indicator of customer churn, as people with a higher balance in their accounts are less likely to leave the bank compared to those with lower balances.\n",
    "* NumOfProducts—refers to the number of products that a customer has purchased through the bank.\n",
    "* HasCrCard—denotes whether or not a customer has a credit card. This column is also relevant, since people with a credit card are less likely to leave the bank.\n",
    "* IsActiveMember—active customers are less likely to leave the bank.\n",
    "* EstimatedSalary—as with balance, people with lower salaries are more likely to leave the bank compared to those with higher salaries.\n",
    "* Exited—whether or not the customer left the bank."
   ]
  },
  {
   "cell_type": "code",
   "execution_count": 6,
   "id": "bcc697cf",
   "metadata": {
    "execution": {
     "iopub.execute_input": "2022-05-30T06:40:35.151132Z",
     "iopub.status.busy": "2022-05-30T06:40:35.149737Z",
     "iopub.status.idle": "2022-05-30T06:40:35.168177Z",
     "shell.execute_reply": "2022-05-30T06:40:35.167248Z"
    },
    "id": "u6G7m55N_4sp",
    "outputId": "947b9c26-21ac-4814-e777-e445a9b21f8f",
    "papermill": {
     "duration": 0.040571,
     "end_time": "2022-05-30T06:40:35.173813",
     "exception": false,
     "start_time": "2022-05-30T06:40:35.133242",
     "status": "completed"
    },
    "tags": []
   },
   "outputs": [
    {
     "data": {
      "text/plain": [
       "RowNumber          0\n",
       "CustomerId         0\n",
       "Surname            0\n",
       "CreditScore        0\n",
       "Geography          0\n",
       "Gender             0\n",
       "Age                0\n",
       "Tenure             0\n",
       "Balance            0\n",
       "NumOfProducts      0\n",
       "HasCrCard          0\n",
       "IsActiveMember     0\n",
       "EstimatedSalary    0\n",
       "Exited             0\n",
       "dtype: int64"
      ]
     },
     "execution_count": 6,
     "metadata": {},
     "output_type": "execute_result"
    }
   ],
   "source": [
    "#Check for missing values\n",
    "df_data.isnull().sum()"
   ]
  },
  {
   "cell_type": "markdown",
   "id": "e229bf7a",
   "metadata": {
    "id": "7LAaJzUXD3tm",
    "papermill": {
     "duration": 0.012623,
     "end_time": "2022-05-30T06:40:35.200755",
     "exception": false,
     "start_time": "2022-05-30T06:40:35.188132",
     "status": "completed"
    },
    "tags": []
   },
   "source": [
    "<a id=2></a> \n",
    "## 2. EDA"
   ]
  },
  {
   "cell_type": "code",
   "execution_count": 7,
   "id": "7bc8c15d",
   "metadata": {
    "execution": {
     "iopub.execute_input": "2022-05-30T06:40:35.227700Z",
     "iopub.status.busy": "2022-05-30T06:40:35.226888Z",
     "iopub.status.idle": "2022-05-30T06:40:35.431168Z",
     "shell.execute_reply": "2022-05-30T06:40:35.430351Z"
    },
    "id": "GMzaszTa_4p5",
    "outputId": "0874e3df-c531-46bd-b37c-c8f642b91893",
    "papermill": {
     "duration": 0.220709,
     "end_time": "2022-05-30T06:40:35.433873",
     "exception": false,
     "start_time": "2022-05-30T06:40:35.213164",
     "status": "completed"
    },
    "tags": []
   },
   "outputs": [
    {
     "data": {
      "text/plain": [
       "<AxesSubplot:xlabel='Exited', ylabel='count'>"
      ]
     },
     "execution_count": 7,
     "metadata": {},
     "output_type": "execute_result"
    },
    {
     "data": {
      "image/png": "[encoded data removed]",
      "text/plain": [
       "<Figure size 432x288 with 1 Axes>"
      ]
     },
     "metadata": {
      "needs_background": "light"
     },
     "output_type": "display_data"
    }
   ],
   "source": [
    "#Target feature distribution\n",
    "sns.countplot(x='Exited', data=df_data)"
   ]
  },
  {
   "cell_type": "code",
   "execution_count": 8,
   "id": "591dda65",
   "metadata": {
    "execution": {
     "iopub.execute_input": "2022-05-30T06:40:35.463111Z",
     "iopub.status.busy": "2022-05-30T06:40:35.462267Z",
     "iopub.status.idle": "2022-05-30T06:40:35.743056Z",
     "shell.execute_reply": "2022-05-30T06:40:35.742240Z"
    },
    "id": "ZvbRE0uZFM8h",
    "outputId": "5d859738-c47a-465f-8b2c-000286d10b2d",
    "papermill": {
     "duration": 0.298058,
     "end_time": "2022-05-30T06:40:35.745574",
     "exception": false,
     "start_time": "2022-05-30T06:40:35.447516",
     "status": "completed"
    },
    "tags": []
   },
   "outputs": [
    {
     "data": {
      "text/plain": [
       "<AxesSubplot:xlabel='Exited', ylabel='count'>"
      ]
     },
     "execution_count": 8,
     "metadata": {},
     "output_type": "execute_result"
    },
    {
     "data": {
      "image/png": "[encoded data removed]",
      "text/plain": [
       "<Figure size 720x360 with 2 Axes>"
      ]
     },
     "metadata": {
      "needs_background": "light"
     },
     "output_type": "display_data"
    }
   ],
   "source": [
    "# Check the distribution of gender\n",
    "plt.figure(figsize=(10,5))\n",
    "\n",
    "#plot pie chart\n",
    "plt.subplot(1,2,1)\n",
    "label = df_data.Gender.value_counts().index\n",
    "label_count = df_data.Gender.value_counts().values\n",
    "\n",
    "plt.pie(data=df_data, x=label_count, labels=label, autopct='%1.1f%%', shadow=True, radius=1)\n",
    "\n",
    "#Target feature distribution with Gender feature\n",
    "plt.subplot(1,2,2)\n",
    "sns.countplot(x='Exited', data=df_data ,hue='Gender')"
   ]
  },
  {
   "cell_type": "code",
   "execution_count": 9,
   "id": "bf5b2551",
   "metadata": {
    "execution": {
     "iopub.execute_input": "2022-05-30T06:40:35.776184Z",
     "iopub.status.busy": "2022-05-30T06:40:35.775292Z",
     "iopub.status.idle": "2022-05-30T06:40:36.101658Z",
     "shell.execute_reply": "2022-05-30T06:40:36.100444Z"
    },
    "id": "0H5SDTwp_4hd",
    "outputId": "a7103b44-2e39-44da-802a-fd25da3d229a",
    "papermill": {
     "duration": 0.344964,
     "end_time": "2022-05-30T06:40:36.104413",
     "exception": false,
     "start_time": "2022-05-30T06:40:35.759449",
     "status": "completed"
    },
    "tags": []
   },
   "outputs": [
    {
     "data": {
      "text/plain": [
       "<AxesSubplot:xlabel='Exited', ylabel='count'>"
      ]
     },
     "execution_count": 9,
     "metadata": {},
     "output_type": "execute_result"
    },
    {
     "data": {
      "image/png": "[encoded data removed]",
      "text/plain": [
       "<Figure size 720x360 with 2 Axes>"
      ]
     },
     "metadata": {
      "needs_background": "light"
     },
     "output_type": "display_data"
    }
   ],
   "source": [
    "# Check the distribution of Geography\n",
    "plt.figure(figsize=(10,5))\n",
    "\n",
    "#plot pie chart\n",
    "plt.subplot(1,2,1)\n",
    "label = df_data.Geography.value_counts().index\n",
    "label_count = df_data.Geography.value_counts().values\n",
    "\n",
    "plt.pie(data=df_data, x=label_count, labels=label, autopct='%1.1f%%', shadow=True, radius=1)\n",
    "\n",
    "#Target feature distribution with Gender feature\n",
    "plt.subplot(1,2,2)\n",
    "sns.countplot(x='Exited', data=df_data ,hue='Geography')"
   ]
  },
  {
   "cell_type": "markdown",
   "id": "10c0bc93",
   "metadata": {
    "id": "D0rfDGNrJPI6",
    "papermill": {
     "duration": 0.013174,
     "end_time": "2022-05-30T06:40:36.131583",
     "exception": false,
     "start_time": "2022-05-30T06:40:36.118409",
     "status": "completed"
    },
    "tags": []
   },
   "source": [
    "<a id=3></a> \n",
    "## 3. Data-preprocessing"
   ]
  },
  {
   "cell_type": "code",
   "execution_count": 10,
   "id": "7e67497a",
   "metadata": {
    "execution": {
     "iopub.execute_input": "2022-05-30T06:40:36.160981Z",
     "iopub.status.busy": "2022-05-30T06:40:36.160272Z",
     "iopub.status.idle": "2022-05-30T06:40:36.177751Z",
     "shell.execute_reply": "2022-05-30T06:40:36.176674Z"
    },
    "id": "CLk9IGGI_4cY",
    "outputId": "3b93bb79-075e-4fc6-fcf9-8aeb0b93f4f6",
    "papermill": {
     "duration": 0.034518,
     "end_time": "2022-05-30T06:40:36.179736",
     "exception": false,
     "start_time": "2022-05-30T06:40:36.145218",
     "status": "completed"
    },
    "tags": []
   },
   "outputs": [
    {
     "data": {
      "text/html": [
       "<div>\n",
       "<style scoped>\n",
       "    .dataframe tbody tr th:only-of-type {\n",
       "        vertical-align: middle;\n",
       "    }\n",
       "\n",
       "    .dataframe tbody tr th {\n",
       "        vertical-align: top;\n",
       "    }\n",
       "\n",
       "    .dataframe thead th {\n",
       "        text-align: right;\n",
       "    }\n",
       "</style>\n",
       "<table border=\"1\" class=\"dataframe\">\n",
       "  <thead>\n",
       "    <tr style=\"text-align: right;\">\n",
       "      <th></th>\n",
       "      <th>RowNumber</th>\n",
       "      <th>CustomerId</th>\n",
       "      <th>Surname</th>\n",
       "      <th>CreditScore</th>\n",
       "      <th>Geography</th>\n",
       "      <th>Gender</th>\n",
       "      <th>Age</th>\n",
       "      <th>Tenure</th>\n",
       "      <th>Balance</th>\n",
       "      <th>NumOfProducts</th>\n",
       "      <th>HasCrCard</th>\n",
       "      <th>IsActiveMember</th>\n",
       "      <th>EstimatedSalary</th>\n",
       "      <th>Exited</th>\n",
       "    </tr>\n",
       "  </thead>\n",
       "  <tbody>\n",
       "    <tr>\n",
       "      <th>0</th>\n",
       "      <td>1</td>\n",
       "      <td>15634602</td>\n",
       "      <td>Hargrave</td>\n",
       "      <td>619</td>\n",
       "      <td>France</td>\n",
       "      <td>Female</td>\n",
       "      <td>42</td>\n",
       "      <td>2</td>\n",
       "      <td>0.00</td>\n",
       "      <td>1</td>\n",
       "      <td>1</td>\n",
       "      <td>1</td>\n",
       "      <td>101348.88</td>\n",
       "      <td>1</td>\n",
       "    </tr>\n",
       "    <tr>\n",
       "      <th>1</th>\n",
       "      <td>2</td>\n",
       "      <td>15647311</td>\n",
       "      <td>Hill</td>\n",
       "      <td>608</td>\n",
       "      <td>Spain</td>\n",
       "      <td>Female</td>\n",
       "      <td>41</td>\n",
       "      <td>1</td>\n",
       "      <td>83807.86</td>\n",
       "      <td>1</td>\n",
       "      <td>0</td>\n",
       "      <td>1</td>\n",
       "      <td>112542.58</td>\n",
       "      <td>0</td>\n",
       "    </tr>\n",
       "    <tr>\n",
       "      <th>2</th>\n",
       "      <td>3</td>\n",
       "      <td>15619304</td>\n",
       "      <td>Onio</td>\n",
       "      <td>502</td>\n",
       "      <td>France</td>\n",
       "      <td>Female</td>\n",
       "      <td>42</td>\n",
       "      <td>8</td>\n",
       "      <td>159660.80</td>\n",
       "      <td>3</td>\n",
       "      <td>1</td>\n",
       "      <td>0</td>\n",
       "      <td>113931.57</td>\n",
       "      <td>1</td>\n",
       "    </tr>\n",
       "    <tr>\n",
       "      <th>3</th>\n",
       "      <td>4</td>\n",
       "      <td>15701354</td>\n",
       "      <td>Boni</td>\n",
       "      <td>699</td>\n",
       "      <td>France</td>\n",
       "      <td>Female</td>\n",
       "      <td>39</td>\n",
       "      <td>1</td>\n",
       "      <td>0.00</td>\n",
       "      <td>2</td>\n",
       "      <td>0</td>\n",
       "      <td>0</td>\n",
       "      <td>93826.63</td>\n",
       "      <td>0</td>\n",
       "    </tr>\n",
       "    <tr>\n",
       "      <th>4</th>\n",
       "      <td>5</td>\n",
       "      <td>15737888</td>\n",
       "      <td>Mitchell</td>\n",
       "      <td>850</td>\n",
       "      <td>Spain</td>\n",
       "      <td>Female</td>\n",
       "      <td>43</td>\n",
       "      <td>2</td>\n",
       "      <td>125510.82</td>\n",
       "      <td>1</td>\n",
       "      <td>1</td>\n",
       "      <td>1</td>\n",
       "      <td>79084.10</td>\n",
       "      <td>0</td>\n",
       "    </tr>\n",
       "  </tbody>\n",
       "</table>\n",
       "</div>"
      ],
      "text/plain": [
       "   RowNumber  CustomerId   Surname  CreditScore Geography  Gender  Age  \\\n",
       "0          1    15634602  Hargrave          619    France  Female   42   \n",
       "1          2    15647311      Hill          608     Spain  Female   41   \n",
       "2          3    15619304      Onio          502    France  Female   42   \n",
       "3          4    15701354      Boni          699    France  Female   39   \n",
       "4          5    15737888  Mitchell          850     Spain  Female   43   \n",
       "\n",
       "   Tenure    Balance  NumOfProducts  HasCrCard  IsActiveMember  \\\n",
       "0       2       0.00              1          1               1   \n",
       "1       1   83807.86              1          0               1   \n",
       "2       8  159660.80              3          1               0   \n",
       "3       1       0.00              2          0               0   \n",
       "4       2  125510.82              1          1               1   \n",
       "\n",
       "   EstimatedSalary  Exited  \n",
       "0        101348.88       1  \n",
       "1        112542.58       0  \n",
       "2        113931.57       1  \n",
       "3         93826.63       0  \n",
       "4         79084.10       0  "
      ]
     },
     "execution_count": 10,
     "metadata": {},
     "output_type": "execute_result"
    }
   ],
   "source": [
    "df_data.head()"
   ]
  },
  {
   "cell_type": "code",
   "execution_count": 11,
   "id": "9e89ac2e",
   "metadata": {
    "execution": {
     "iopub.execute_input": "2022-05-30T06:40:36.210475Z",
     "iopub.status.busy": "2022-05-30T06:40:36.209419Z",
     "iopub.status.idle": "2022-05-30T06:40:36.218658Z",
     "shell.execute_reply": "2022-05-30T06:40:36.217774Z"
    },
    "id": "b8uFi3wO_4Zw",
    "papermill": {
     "duration": 0.026858,
     "end_time": "2022-05-30T06:40:36.220838",
     "exception": false,
     "start_time": "2022-05-30T06:40:36.193980",
     "status": "completed"
    },
    "tags": []
   },
   "outputs": [],
   "source": [
    "#drop features which are not required\n",
    "df_data.drop(['RowNumber', 'CustomerId', 'Surname'], axis=1, inplace=True)"
   ]
  },
  {
   "cell_type": "code",
   "execution_count": 12,
   "id": "36aa6d2e",
   "metadata": {
    "execution": {
     "iopub.execute_input": "2022-05-30T06:40:36.251202Z",
     "iopub.status.busy": "2022-05-30T06:40:36.250711Z",
     "iopub.status.idle": "2022-05-30T06:40:36.261384Z",
     "shell.execute_reply": "2022-05-30T06:40:36.260165Z"
    },
    "id": "Vn1xCd7S_4Uh",
    "papermill": {
     "duration": 0.02888,
     "end_time": "2022-05-30T06:40:36.263981",
     "exception": false,
     "start_time": "2022-05-30T06:40:36.235101",
     "status": "completed"
    },
    "tags": []
   },
   "outputs": [],
   "source": [
    "#Onehot encode categorical features\n",
    "geog = pd.get_dummies(df_data['Geography'], drop_first=True)\n",
    "gen = pd.get_dummies(df_data['Gender'], drop_first=True)"
   ]
  },
  {
   "cell_type": "code",
   "execution_count": 13,
   "id": "bcfd4675",
   "metadata": {
    "execution": {
     "iopub.execute_input": "2022-05-30T06:40:36.293967Z",
     "iopub.status.busy": "2022-05-30T06:40:36.293424Z",
     "iopub.status.idle": "2022-05-30T06:40:36.304460Z",
     "shell.execute_reply": "2022-05-30T06:40:36.303453Z"
    },
    "id": "blrxLJfL_4R5",
    "outputId": "713132af-6035-4c3f-e650-b1be188a733d",
    "papermill": {
     "duration": 0.028678,
     "end_time": "2022-05-30T06:40:36.306926",
     "exception": false,
     "start_time": "2022-05-30T06:40:36.278248",
     "status": "completed"
    },
    "tags": []
   },
   "outputs": [
    {
     "data": {
      "text/html": [
       "<div>\n",
       "<style scoped>\n",
       "    .dataframe tbody tr th:only-of-type {\n",
       "        vertical-align: middle;\n",
       "    }\n",
       "\n",
       "    .dataframe tbody tr th {\n",
       "        vertical-align: top;\n",
       "    }\n",
       "\n",
       "    .dataframe thead th {\n",
       "        text-align: right;\n",
       "    }\n",
       "</style>\n",
       "<table border=\"1\" class=\"dataframe\">\n",
       "  <thead>\n",
       "    <tr style=\"text-align: right;\">\n",
       "      <th></th>\n",
       "      <th>Germany</th>\n",
       "      <th>Spain</th>\n",
       "    </tr>\n",
       "  </thead>\n",
       "  <tbody>\n",
       "    <tr>\n",
       "      <th>0</th>\n",
       "      <td>0</td>\n",
       "      <td>0</td>\n",
       "    </tr>\n",
       "    <tr>\n",
       "      <th>1</th>\n",
       "      <td>0</td>\n",
       "      <td>1</td>\n",
       "    </tr>\n",
       "    <tr>\n",
       "      <th>2</th>\n",
       "      <td>0</td>\n",
       "      <td>0</td>\n",
       "    </tr>\n",
       "    <tr>\n",
       "      <th>3</th>\n",
       "      <td>0</td>\n",
       "      <td>0</td>\n",
       "    </tr>\n",
       "    <tr>\n",
       "      <th>4</th>\n",
       "      <td>0</td>\n",
       "      <td>1</td>\n",
       "    </tr>\n",
       "  </tbody>\n",
       "</table>\n",
       "</div>"
      ],
      "text/plain": [
       "   Germany  Spain\n",
       "0        0      0\n",
       "1        0      1\n",
       "2        0      0\n",
       "3        0      0\n",
       "4        0      1"
      ]
     },
     "execution_count": 13,
     "metadata": {},
     "output_type": "execute_result"
    }
   ],
   "source": [
    "geog.head()"
   ]
  },
  {
   "cell_type": "code",
   "execution_count": 14,
   "id": "99638b64",
   "metadata": {
    "execution": {
     "iopub.execute_input": "2022-05-30T06:40:36.338018Z",
     "iopub.status.busy": "2022-05-30T06:40:36.337512Z",
     "iopub.status.idle": "2022-05-30T06:40:36.347704Z",
     "shell.execute_reply": "2022-05-30T06:40:36.346673Z"
    },
    "id": "COBRuScB_4PP",
    "outputId": "0dce0045-7458-4e63-a471-6c12d872fe37",
    "papermill": {
     "duration": 0.028548,
     "end_time": "2022-05-30T06:40:36.349888",
     "exception": false,
     "start_time": "2022-05-30T06:40:36.321340",
     "status": "completed"
    },
    "tags": []
   },
   "outputs": [
    {
     "data": {
      "text/html": [
       "<div>\n",
       "<style scoped>\n",
       "    .dataframe tbody tr th:only-of-type {\n",
       "        vertical-align: middle;\n",
       "    }\n",
       "\n",
       "    .dataframe tbody tr th {\n",
       "        vertical-align: top;\n",
       "    }\n",
       "\n",
       "    .dataframe thead th {\n",
       "        text-align: right;\n",
       "    }\n",
       "</style>\n",
       "<table border=\"1\" class=\"dataframe\">\n",
       "  <thead>\n",
       "    <tr style=\"text-align: right;\">\n",
       "      <th></th>\n",
       "      <th>Male</th>\n",
       "    </tr>\n",
       "  </thead>\n",
       "  <tbody>\n",
       "    <tr>\n",
       "      <th>0</th>\n",
       "      <td>0</td>\n",
       "    </tr>\n",
       "    <tr>\n",
       "      <th>1</th>\n",
       "      <td>0</td>\n",
       "    </tr>\n",
       "    <tr>\n",
       "      <th>2</th>\n",
       "      <td>0</td>\n",
       "    </tr>\n",
       "    <tr>\n",
       "      <th>3</th>\n",
       "      <td>0</td>\n",
       "    </tr>\n",
       "    <tr>\n",
       "      <th>4</th>\n",
       "      <td>0</td>\n",
       "    </tr>\n",
       "  </tbody>\n",
       "</table>\n",
       "</div>"
      ],
      "text/plain": [
       "   Male\n",
       "0     0\n",
       "1     0\n",
       "2     0\n",
       "3     0\n",
       "4     0"
      ]
     },
     "execution_count": 14,
     "metadata": {},
     "output_type": "execute_result"
    }
   ],
   "source": [
    "gen.head()"
   ]
  },
  {
   "cell_type": "code",
   "execution_count": 15,
   "id": "129818a1",
   "metadata": {
    "execution": {
     "iopub.execute_input": "2022-05-30T06:40:36.380830Z",
     "iopub.status.busy": "2022-05-30T06:40:36.380141Z",
     "iopub.status.idle": "2022-05-30T06:40:36.390009Z",
     "shell.execute_reply": "2022-05-30T06:40:36.389123Z"
    },
    "id": "rqWbcvX-_4Me",
    "papermill": {
     "duration": 0.027971,
     "end_time": "2022-05-30T06:40:36.392343",
     "exception": false,
     "start_time": "2022-05-30T06:40:36.364372",
     "status": "completed"
    },
    "tags": []
   },
   "outputs": [],
   "source": [
    "#Concat the encoded features to the main dataframe\n",
    "df_data = pd.concat([df_data,gen,geog],axis=1)\n",
    "\n",
    "#Drop the old categorical features\n",
    "df_data.drop(['Geography', 'Gender'], axis=1, inplace=True)"
   ]
  },
  {
   "cell_type": "code",
   "execution_count": 16,
   "id": "03b51d92",
   "metadata": {
    "execution": {
     "iopub.execute_input": "2022-05-30T06:40:36.423662Z",
     "iopub.status.busy": "2022-05-30T06:40:36.422967Z",
     "iopub.status.idle": "2022-05-30T06:40:36.437816Z",
     "shell.execute_reply": "2022-05-30T06:40:36.436980Z"
    },
    "id": "09vvZti3_4J3",
    "outputId": "05878d40-066a-440c-cac3-2580272d69d0",
    "papermill": {
     "duration": 0.033637,
     "end_time": "2022-05-30T06:40:36.440105",
     "exception": false,
     "start_time": "2022-05-30T06:40:36.406468",
     "status": "completed"
    },
    "tags": []
   },
   "outputs": [
    {
     "data": {
      "text/html": [
       "<div>\n",
       "<style scoped>\n",
       "    .dataframe tbody tr th:only-of-type {\n",
       "        vertical-align: middle;\n",
       "    }\n",
       "\n",
       "    .dataframe tbody tr th {\n",
       "        vertical-align: top;\n",
       "    }\n",
       "\n",
       "    .dataframe thead th {\n",
       "        text-align: right;\n",
       "    }\n",
       "</style>\n",
       "<table border=\"1\" class=\"dataframe\">\n",
       "  <thead>\n",
       "    <tr style=\"text-align: right;\">\n",
       "      <th></th>\n",
       "      <th>CreditScore</th>\n",
       "      <th>Age</th>\n",
       "      <th>Tenure</th>\n",
       "      <th>Balance</th>\n",
       "      <th>NumOfProducts</th>\n",
       "      <th>HasCrCard</th>\n",
       "      <th>IsActiveMember</th>\n",
       "      <th>EstimatedSalary</th>\n",
       "      <th>Exited</th>\n",
       "      <th>Male</th>\n",
       "      <th>Germany</th>\n",
       "      <th>Spain</th>\n",
       "    </tr>\n",
       "  </thead>\n",
       "  <tbody>\n",
       "    <tr>\n",
       "      <th>0</th>\n",
       "      <td>619</td>\n",
       "      <td>42</td>\n",
       "      <td>2</td>\n",
       "      <td>0.00</td>\n",
       "      <td>1</td>\n",
       "      <td>1</td>\n",
       "      <td>1</td>\n",
       "      <td>101348.88</td>\n",
       "      <td>1</td>\n",
       "      <td>0</td>\n",
       "      <td>0</td>\n",
       "      <td>0</td>\n",
       "    </tr>\n",
       "    <tr>\n",
       "      <th>1</th>\n",
       "      <td>608</td>\n",
       "      <td>41</td>\n",
       "      <td>1</td>\n",
       "      <td>83807.86</td>\n",
       "      <td>1</td>\n",
       "      <td>0</td>\n",
       "      <td>1</td>\n",
       "      <td>112542.58</td>\n",
       "      <td>0</td>\n",
       "      <td>0</td>\n",
       "      <td>0</td>\n",
       "      <td>1</td>\n",
       "    </tr>\n",
       "    <tr>\n",
       "      <th>2</th>\n",
       "      <td>502</td>\n",
       "      <td>42</td>\n",
       "      <td>8</td>\n",
       "      <td>159660.80</td>\n",
       "      <td>3</td>\n",
       "      <td>1</td>\n",
       "      <td>0</td>\n",
       "      <td>113931.57</td>\n",
       "      <td>1</td>\n",
       "      <td>0</td>\n",
       "      <td>0</td>\n",
       "      <td>0</td>\n",
       "    </tr>\n",
       "    <tr>\n",
       "      <th>3</th>\n",
       "      <td>699</td>\n",
       "      <td>39</td>\n",
       "      <td>1</td>\n",
       "      <td>0.00</td>\n",
       "      <td>2</td>\n",
       "      <td>0</td>\n",
       "      <td>0</td>\n",
       "      <td>93826.63</td>\n",
       "      <td>0</td>\n",
       "      <td>0</td>\n",
       "      <td>0</td>\n",
       "      <td>0</td>\n",
       "    </tr>\n",
       "    <tr>\n",
       "      <th>4</th>\n",
       "      <td>850</td>\n",
       "      <td>43</td>\n",
       "      <td>2</td>\n",
       "      <td>125510.82</td>\n",
       "      <td>1</td>\n",
       "      <td>1</td>\n",
       "      <td>1</td>\n",
       "      <td>79084.10</td>\n",
       "      <td>0</td>\n",
       "      <td>0</td>\n",
       "      <td>0</td>\n",
       "      <td>1</td>\n",
       "    </tr>\n",
       "  </tbody>\n",
       "</table>\n",
       "</div>"
      ],
      "text/plain": [
       "   CreditScore  Age  Tenure    Balance  NumOfProducts  HasCrCard  \\\n",
       "0          619   42       2       0.00              1          1   \n",
       "1          608   41       1   83807.86              1          0   \n",
       "2          502   42       8  159660.80              3          1   \n",
       "3          699   39       1       0.00              2          0   \n",
       "4          850   43       2  125510.82              1          1   \n",
       "\n",
       "   IsActiveMember  EstimatedSalary  Exited  Male  Germany  Spain  \n",
       "0               1        101348.88       1     0        0      0  \n",
       "1               1        112542.58       0     0        0      1  \n",
       "2               0        113931.57       1     0        0      0  \n",
       "3               0         93826.63       0     0        0      0  \n",
       "4               1         79084.10       0     0        0      1  "
      ]
     },
     "execution_count": 16,
     "metadata": {},
     "output_type": "execute_result"
    }
   ],
   "source": [
    "df_data.head()"
   ]
  },
  {
   "cell_type": "markdown",
   "id": "5eb0d629",
   "metadata": {
    "id": "twXNqUYYLnAd",
    "papermill": {
     "duration": 0.013916,
     "end_time": "2022-05-30T06:40:36.468579",
     "exception": false,
     "start_time": "2022-05-30T06:40:36.454663",
     "status": "completed"
    },
    "tags": []
   },
   "source": [
    "<a id=4></a> \n",
    "## 4. Model building"
   ]
  },
  {
   "cell_type": "code",
   "execution_count": 17,
   "id": "0f0835f5",
   "metadata": {
    "execution": {
     "iopub.execute_input": "2022-05-30T06:40:36.499911Z",
     "iopub.status.busy": "2022-05-30T06:40:36.499186Z",
     "iopub.status.idle": "2022-05-30T06:40:36.507962Z",
     "shell.execute_reply": "2022-05-30T06:40:36.506837Z"
    },
    "id": "8h0zFHEe_4EY",
    "outputId": "373ff46c-bc5a-4937-9f4d-f0b50928bff7",
    "papermill": {
     "duration": 0.027192,
     "end_time": "2022-05-30T06:40:36.510107",
     "exception": false,
     "start_time": "2022-05-30T06:40:36.482915",
     "status": "completed"
    },
    "tags": []
   },
   "outputs": [
    {
     "data": {
      "text/plain": [
       "((10000, 11), (10000,))"
      ]
     },
     "execution_count": 17,
     "metadata": {},
     "output_type": "execute_result"
    }
   ],
   "source": [
    "#Seperate independent and dependent features\n",
    "X = df_data.loc[:, df_data.columns!='Exited']\n",
    "y = df_data['Exited']\n",
    "\n",
    "X.shape, y.shape"
   ]
  },
  {
   "cell_type": "code",
   "execution_count": 18,
   "id": "77279c14",
   "metadata": {
    "execution": {
     "iopub.execute_input": "2022-05-30T06:40:36.541364Z",
     "iopub.status.busy": "2022-05-30T06:40:36.540255Z",
     "iopub.status.idle": "2022-05-30T06:40:36.552499Z",
     "shell.execute_reply": "2022-05-30T06:40:36.550971Z"
    },
    "id": "vbPUmweX_4Bp",
    "outputId": "543e05d5-7e8f-4895-d51c-c7070ae8b216",
    "papermill": {
     "duration": 0.030624,
     "end_time": "2022-05-30T06:40:36.554918",
     "exception": false,
     "start_time": "2022-05-30T06:40:36.524294",
     "status": "completed"
    },
    "tags": []
   },
   "outputs": [
    {
     "name": "stdout",
     "output_type": "stream",
     "text": [
      "Train (7000, 11) (7000,)\n",
      "Test (3000, 11) (3000,)\n"
     ]
    }
   ],
   "source": [
    "# Break off validation set from training data\n",
    "X_train, X_valid, y_train, y_valid = train_test_split(X, y, train_size=0.7, test_size=0.3, random_state=0)\n",
    "# summarize\n",
    "print('Train', X_train.shape, y_train.shape)\n",
    "print('Test', X_valid.shape, y_valid.shape)"
   ]
  },
  {
   "cell_type": "code",
   "execution_count": 19,
   "id": "5bc3e232",
   "metadata": {
    "execution": {
     "iopub.execute_input": "2022-05-30T06:40:36.585842Z",
     "iopub.status.busy": "2022-05-30T06:40:36.585411Z",
     "iopub.status.idle": "2022-05-30T06:40:36.601141Z",
     "shell.execute_reply": "2022-05-30T06:40:36.600036Z"
    },
    "id": "3qgbyxBu_3-r",
    "papermill": {
     "duration": 0.034567,
     "end_time": "2022-05-30T06:40:36.603888",
     "exception": false,
     "start_time": "2022-05-30T06:40:36.569321",
     "status": "completed"
    },
    "tags": []
   },
   "outputs": [],
   "source": [
    "# Feature Scaling\n",
    "scaler = StandardScaler()\n",
    "X_train_sc = scaler.fit_transform(X_train)\n",
    "X_valid_sc = scaler.transform(X_valid)"
   ]
  },
  {
   "cell_type": "code",
   "execution_count": 20,
   "id": "4fcf7eb1",
   "metadata": {
    "execution": {
     "iopub.execute_input": "2022-05-30T06:40:36.636392Z",
     "iopub.status.busy": "2022-05-30T06:40:36.635540Z",
     "iopub.status.idle": "2022-05-30T06:40:36.725072Z",
     "shell.execute_reply": "2022-05-30T06:40:36.724339Z"
    },
    "id": "N6-O2mlH_38A",
    "papermill": {
     "duration": 0.109399,
     "end_time": "2022-05-30T06:40:36.728264",
     "exception": false,
     "start_time": "2022-05-30T06:40:36.618865",
     "status": "completed"
    },
    "tags": []
   },
   "outputs": [
    {
     "name": "stderr",
     "output_type": "stream",
     "text": [
      "2022-05-30 06:40:36.688978: I tensorflow/core/common_runtime/process_util.cc:146] Creating new thread pool with default inter op setting: 2. Tune using inter_op_parallelism_threads for best performance.\n"
     ]
    }
   ],
   "source": [
    "#Initialise ANN\n",
    "classifier = Sequential()\n",
    "\n",
    "#Add input layer\n",
    "classifier.add(Dense(units=11,activation='relu'))\n",
    "\n",
    "#Add first hidden layer\n",
    "classifier.add(Dense(units=7, activation='relu'))\n",
    "classifier.add(Dropout(0.2))\n",
    "\n",
    "#Add second hidden layer\n",
    "classifier.add(Dense(units=7, activation='relu'))\n",
    "classifier.add(Dropout(0.2))\n",
    "\n",
    "#Add output layer\n",
    "classifier.add(Dense(units=1, activation='sigmoid'))"
   ]
  },
  {
   "cell_type": "code",
   "execution_count": 21,
   "id": "17f67835",
   "metadata": {
    "execution": {
     "iopub.execute_input": "2022-05-30T06:40:36.763128Z",
     "iopub.status.busy": "2022-05-30T06:40:36.762138Z",
     "iopub.status.idle": "2022-05-30T06:40:36.788853Z",
     "shell.execute_reply": "2022-05-30T06:40:36.787214Z"
    },
    "id": "necjtqsJ_35J",
    "papermill": {
     "duration": 0.046864,
     "end_time": "2022-05-30T06:40:36.791776",
     "exception": false,
     "start_time": "2022-05-30T06:40:36.744912",
     "status": "completed"
    },
    "tags": []
   },
   "outputs": [],
   "source": [
    "#optimizer\n",
    "opt = Adam(learning_rate=0.01)\n",
    "\n",
    "#compile\n",
    "classifier.compile(optimizer=opt, loss='binary_crossentropy', metrics=['accuracy'])"
   ]
  },
  {
   "cell_type": "code",
   "execution_count": 22,
   "id": "e99a4ffa",
   "metadata": {
    "execution": {
     "iopub.execute_input": "2022-05-30T06:40:36.825239Z",
     "iopub.status.busy": "2022-05-30T06:40:36.824512Z",
     "iopub.status.idle": "2022-05-30T06:40:36.830551Z",
     "shell.execute_reply": "2022-05-30T06:40:36.829708Z"
    },
    "id": "k7Zjjzgc_32X",
    "papermill": {
     "duration": 0.025205,
     "end_time": "2022-05-30T06:40:36.832886",
     "exception": false,
     "start_time": "2022-05-30T06:40:36.807681",
     "status": "completed"
    },
    "tags": []
   },
   "outputs": [],
   "source": [
    "#Early stopping\n",
    "early_stop = tf.keras.callbacks.EarlyStopping(\n",
    "    monitor='val_loss',\n",
    "    min_delta=0.0001,\n",
    "    patience=20,\n",
    "    verbose=1,\n",
    "    mode='auto',\n",
    "    baseline=None,\n",
    "    restore_best_weights=False,\n",
    ")\n",
    "\n",
    "#monitor: Quantity to be monitored.\n",
    "\n",
    "#min_delta: Minimum change in the monitored quantity to qualify as an improvement, i.e. an absolute change of less than min_delta, will count as no improvement.\n",
    "\n",
    "#patience: Number of epochs with no improvement after which training will be stopped.\n",
    "\n",
    "#verbose: Verbosity mode, 0 or 1. Mode 0 is silent, and mode 1 displays messages when the callback takes an action.\n",
    "\n",
    "#mode: One of {\"auto\", \"min\", \"max\"}. In min mode, training will stop when the quantity monitored has stopped decreasing; in \"max\" mode it will stop when the quantity monitored has stopped increasing; in \"auto\" mode, the direction is automatically inferred from the name of the monitored quantity.\n",
    "\n",
    "#baseline: Baseline value for the monitored quantity. Training will stop if the model doesn't show improvement over the baseline.\n",
    "\n",
    "#restore_best_weights: Whether to restore model weights from the epoch with the best value of the monitored quantity. If False, the model weights obtained at the last step of training are used. An epoch will be restored regardless of the performance relative to the baseline. If no epoch improves on baseline, training will run for patience epochs and restore weights from the best epoch in that set."
   ]
  },
  {
   "cell_type": "code",
   "execution_count": 23,
   "id": "10d54b6e",
   "metadata": {
    "execution": {
     "iopub.execute_input": "2022-05-30T06:40:36.865709Z",
     "iopub.status.busy": "2022-05-30T06:40:36.864967Z",
     "iopub.status.idle": "2022-05-30T06:41:57.867092Z",
     "shell.execute_reply": "2022-05-30T06:41:57.865916Z"
    },
    "id": "xT0NTE97_3zv",
    "outputId": "1906ef14-294d-4d7d-99f8-f5f38d7ef528",
    "papermill": {
     "duration": 81.021536,
     "end_time": "2022-05-30T06:41:57.870018",
     "exception": false,
     "start_time": "2022-05-30T06:40:36.848482",
     "status": "completed"
    },
    "tags": []
   },
   "outputs": [
    {
     "name": "stderr",
     "output_type": "stream",
     "text": [
      "2022-05-30 06:40:36.965284: I tensorflow/compiler/mlir/mlir_graph_optimization_pass.cc:185] None of the MLIR Optimization Passes are enabled (registered 2)\n"
     ]
    },
    {
     "name": "stdout",
     "output_type": "stream",
     "text": [
      "Epoch 1/1000\n",
      "469/469 [==============================] - 3s 4ms/step - loss: 0.4609 - accuracy: 0.8036 - val_loss: 0.4432 - val_accuracy: 0.8109\n",
      "Epoch 2/1000\n",
      "469/469 [==============================] - 1s 3ms/step - loss: 0.4047 - accuracy: 0.8337 - val_loss: 0.3926 - val_accuracy: 0.8377\n",
      "Epoch 3/1000\n",
      "469/469 [==============================] - 2s 3ms/step - loss: 0.3846 - accuracy: 0.8396 - val_loss: 0.3738 - val_accuracy: 0.8464\n",
      "Epoch 4/1000\n",
      "469/469 [==============================] - 1s 3ms/step - loss: 0.3804 - accuracy: 0.8358 - val_loss: 0.4009 - val_accuracy: 0.8373\n",
      "Epoch 5/1000\n",
      "469/469 [==============================] - 1s 3ms/step - loss: 0.3801 - accuracy: 0.8426 - val_loss: 0.3697 - val_accuracy: 0.8481\n",
      "Epoch 6/1000\n",
      "469/469 [==============================] - 2s 3ms/step - loss: 0.3803 - accuracy: 0.8430 - val_loss: 0.3719 - val_accuracy: 0.8511\n",
      "Epoch 7/1000\n",
      "469/469 [==============================] - 1s 3ms/step - loss: 0.3735 - accuracy: 0.8445 - val_loss: 0.3708 - val_accuracy: 0.8490\n",
      "Epoch 8/1000\n",
      "469/469 [==============================] - 1s 3ms/step - loss: 0.3666 - accuracy: 0.8473 - val_loss: 0.3679 - val_accuracy: 0.8498\n",
      "Epoch 9/1000\n",
      "469/469 [==============================] - 1s 3ms/step - loss: 0.3702 - accuracy: 0.8447 - val_loss: 0.3675 - val_accuracy: 0.8498\n",
      "Epoch 10/1000\n",
      "469/469 [==============================] - 1s 3ms/step - loss: 0.3618 - accuracy: 0.8543 - val_loss: 0.3678 - val_accuracy: 0.8520\n",
      "Epoch 11/1000\n",
      "469/469 [==============================] - 1s 3ms/step - loss: 0.3725 - accuracy: 0.8484 - val_loss: 0.3720 - val_accuracy: 0.8490\n",
      "Epoch 12/1000\n",
      "469/469 [==============================] - 1s 3ms/step - loss: 0.3707 - accuracy: 0.8484 - val_loss: 0.3686 - val_accuracy: 0.8516\n",
      "Epoch 13/1000\n",
      "469/469 [==============================] - 2s 4ms/step - loss: 0.3591 - accuracy: 0.8526 - val_loss: 0.3654 - val_accuracy: 0.8473\n",
      "Epoch 14/1000\n",
      "469/469 [==============================] - 1s 3ms/step - loss: 0.3686 - accuracy: 0.8482 - val_loss: 0.3652 - val_accuracy: 0.8473\n",
      "Epoch 15/1000\n",
      "469/469 [==============================] - 2s 3ms/step - loss: 0.3648 - accuracy: 0.8503 - val_loss: 0.3684 - val_accuracy: 0.8447\n",
      "Epoch 16/1000\n",
      "469/469 [==============================] - 1s 3ms/step - loss: 0.3643 - accuracy: 0.8475 - val_loss: 0.3723 - val_accuracy: 0.8451\n",
      "Epoch 17/1000\n",
      "469/469 [==============================] - 1s 3ms/step - loss: 0.3606 - accuracy: 0.8548 - val_loss: 0.3765 - val_accuracy: 0.8486\n",
      "Epoch 18/1000\n",
      "469/469 [==============================] - 1s 3ms/step - loss: 0.3556 - accuracy: 0.8537 - val_loss: 0.3776 - val_accuracy: 0.8360\n",
      "Epoch 19/1000\n",
      "469/469 [==============================] - 2s 4ms/step - loss: 0.3602 - accuracy: 0.8496 - val_loss: 0.3742 - val_accuracy: 0.8490\n",
      "Epoch 20/1000\n",
      "469/469 [==============================] - 2s 4ms/step - loss: 0.3584 - accuracy: 0.8494 - val_loss: 0.3612 - val_accuracy: 0.8563\n",
      "Epoch 21/1000\n",
      "469/469 [==============================] - 2s 3ms/step - loss: 0.3590 - accuracy: 0.8520 - val_loss: 0.3603 - val_accuracy: 0.8537\n",
      "Epoch 22/1000\n",
      "469/469 [==============================] - 2s 3ms/step - loss: 0.3561 - accuracy: 0.8501 - val_loss: 0.3640 - val_accuracy: 0.8464\n",
      "Epoch 23/1000\n",
      "469/469 [==============================] - 2s 3ms/step - loss: 0.3603 - accuracy: 0.8524 - val_loss: 0.3564 - val_accuracy: 0.8550\n",
      "Epoch 24/1000\n",
      "469/469 [==============================] - 2s 3ms/step - loss: 0.3597 - accuracy: 0.8469 - val_loss: 0.3658 - val_accuracy: 0.8503\n",
      "Epoch 25/1000\n",
      "469/469 [==============================] - 1s 3ms/step - loss: 0.3586 - accuracy: 0.8524 - val_loss: 0.3802 - val_accuracy: 0.8416\n",
      "Epoch 26/1000\n",
      "469/469 [==============================] - 2s 3ms/step - loss: 0.3511 - accuracy: 0.8533 - val_loss: 0.3600 - val_accuracy: 0.8529\n",
      "Epoch 27/1000\n",
      "469/469 [==============================] - 2s 3ms/step - loss: 0.3516 - accuracy: 0.8569 - val_loss: 0.3692 - val_accuracy: 0.8511\n",
      "Epoch 28/1000\n",
      "469/469 [==============================] - 2s 3ms/step - loss: 0.3517 - accuracy: 0.8552 - val_loss: 0.3722 - val_accuracy: 0.8451\n",
      "Epoch 29/1000\n",
      "469/469 [==============================] - 2s 3ms/step - loss: 0.3596 - accuracy: 0.8501 - val_loss: 0.3718 - val_accuracy: 0.8464\n",
      "Epoch 30/1000\n",
      "469/469 [==============================] - 2s 3ms/step - loss: 0.3466 - accuracy: 0.8558 - val_loss: 0.3708 - val_accuracy: 0.8451\n",
      "Epoch 31/1000\n",
      "469/469 [==============================] - 2s 3ms/step - loss: 0.3535 - accuracy: 0.8558 - val_loss: 0.3747 - val_accuracy: 0.8473\n",
      "Epoch 32/1000\n",
      "469/469 [==============================] - 2s 3ms/step - loss: 0.3490 - accuracy: 0.8580 - val_loss: 0.3534 - val_accuracy: 0.8607\n",
      "Epoch 33/1000\n",
      "469/469 [==============================] - 2s 3ms/step - loss: 0.3515 - accuracy: 0.8541 - val_loss: 0.3678 - val_accuracy: 0.8529\n",
      "Epoch 34/1000\n",
      "469/469 [==============================] - 2s 3ms/step - loss: 0.3547 - accuracy: 0.8537 - val_loss: 0.3634 - val_accuracy: 0.8555\n",
      "Epoch 35/1000\n",
      "469/469 [==============================] - 2s 3ms/step - loss: 0.3496 - accuracy: 0.8522 - val_loss: 0.3895 - val_accuracy: 0.8524\n",
      "Epoch 36/1000\n",
      "469/469 [==============================] - 1s 3ms/step - loss: 0.3523 - accuracy: 0.8554 - val_loss: 0.3690 - val_accuracy: 0.8473\n",
      "Epoch 37/1000\n",
      "469/469 [==============================] - 1s 3ms/step - loss: 0.3448 - accuracy: 0.8554 - val_loss: 0.3941 - val_accuracy: 0.8468\n",
      "Epoch 38/1000\n",
      "469/469 [==============================] - 1s 3ms/step - loss: 0.3493 - accuracy: 0.8556 - val_loss: 0.3765 - val_accuracy: 0.8455\n",
      "Epoch 39/1000\n",
      "469/469 [==============================] - 1s 3ms/step - loss: 0.3486 - accuracy: 0.8516 - val_loss: 0.3660 - val_accuracy: 0.8507\n",
      "Epoch 40/1000\n",
      "469/469 [==============================] - 1s 3ms/step - loss: 0.3552 - accuracy: 0.8507 - val_loss: 0.3671 - val_accuracy: 0.8438\n",
      "Epoch 41/1000\n",
      "469/469 [==============================] - 2s 4ms/step - loss: 0.3460 - accuracy: 0.8578 - val_loss: 0.3671 - val_accuracy: 0.8542\n",
      "Epoch 42/1000\n",
      "469/469 [==============================] - 2s 4ms/step - loss: 0.3439 - accuracy: 0.8599 - val_loss: 0.3860 - val_accuracy: 0.8395\n",
      "Epoch 43/1000\n",
      "469/469 [==============================] - 2s 3ms/step - loss: 0.3604 - accuracy: 0.8546 - val_loss: 0.3653 - val_accuracy: 0.8511\n",
      "Epoch 44/1000\n",
      "469/469 [==============================] - 2s 3ms/step - loss: 0.3522 - accuracy: 0.8520 - val_loss: 0.3631 - val_accuracy: 0.8520\n",
      "Epoch 45/1000\n",
      "469/469 [==============================] - 2s 3ms/step - loss: 0.3461 - accuracy: 0.8569 - val_loss: 0.3744 - val_accuracy: 0.8390\n",
      "Epoch 46/1000\n",
      "469/469 [==============================] - 2s 3ms/step - loss: 0.3446 - accuracy: 0.8573 - val_loss: 0.3728 - val_accuracy: 0.8460\n",
      "Epoch 47/1000\n",
      "469/469 [==============================] - 2s 3ms/step - loss: 0.3489 - accuracy: 0.8578 - val_loss: 0.3697 - val_accuracy: 0.8520\n",
      "Epoch 48/1000\n",
      "469/469 [==============================] - 2s 3ms/step - loss: 0.3448 - accuracy: 0.8558 - val_loss: 0.3660 - val_accuracy: 0.8529\n",
      "Epoch 49/1000\n",
      "469/469 [==============================] - 2s 3ms/step - loss: 0.3472 - accuracy: 0.8578 - val_loss: 0.3847 - val_accuracy: 0.8481\n",
      "Epoch 50/1000\n",
      "469/469 [==============================] - 2s 3ms/step - loss: 0.3399 - accuracy: 0.8567 - val_loss: 0.3668 - val_accuracy: 0.8490\n",
      "Epoch 51/1000\n",
      "469/469 [==============================] - 2s 3ms/step - loss: 0.3475 - accuracy: 0.8548 - val_loss: 0.3660 - val_accuracy: 0.8494\n",
      "Epoch 52/1000\n",
      "469/469 [==============================] - 2s 3ms/step - loss: 0.3423 - accuracy: 0.8565 - val_loss: 0.3765 - val_accuracy: 0.8477\n",
      "Epoch 00052: early stopping\n"
     ]
    }
   ],
   "source": [
    "#Fit model\n",
    "model_history = classifier.fit(X_train_sc, y_train, validation_split=0.33, batch_size=10, epochs=1000, callbacks=early_stop)"
   ]
  },
  {
   "cell_type": "code",
   "execution_count": 24,
   "id": "335b060d",
   "metadata": {
    "execution": {
     "iopub.execute_input": "2022-05-30T06:41:58.099763Z",
     "iopub.status.busy": "2022-05-30T06:41:58.099035Z",
     "iopub.status.idle": "2022-05-30T06:41:58.106170Z",
     "shell.execute_reply": "2022-05-30T06:41:58.105118Z"
    },
    "id": "buvtOvmdVo1f",
    "outputId": "34678eed-b340-43a7-bc3b-3bf31749ca03",
    "papermill": {
     "duration": 0.127556,
     "end_time": "2022-05-30T06:41:58.108359",
     "exception": false,
     "start_time": "2022-05-30T06:41:57.980803",
     "status": "completed"
    },
    "tags": []
   },
   "outputs": [
    {
     "data": {
      "text/plain": [
       "dict_keys(['loss', 'accuracy', 'val_loss', 'val_accuracy'])"
      ]
     },
     "execution_count": 24,
     "metadata": {},
     "output_type": "execute_result"
    }
   ],
   "source": [
    "model_history.history.keys()"
   ]
  },
  {
   "cell_type": "code",
   "execution_count": 25,
   "id": "d7cc6525",
   "metadata": {
    "execution": {
     "iopub.execute_input": "2022-05-30T06:41:58.331906Z",
     "iopub.status.busy": "2022-05-30T06:41:58.330998Z",
     "iopub.status.idle": "2022-05-30T06:41:58.569988Z",
     "shell.execute_reply": "2022-05-30T06:41:58.568648Z"
    },
    "id": "vhIfcWYtVpI2",
    "outputId": "45785520-2d74-43a3-ad67-e2fe06a5c400",
    "papermill": {
     "duration": 0.353144,
     "end_time": "2022-05-30T06:41:58.572566",
     "exception": false,
     "start_time": "2022-05-30T06:41:58.219422",
     "status": "completed"
    },
    "tags": []
   },
   "outputs": [
    {
     "data": {
      "text/plain": [
       "<matplotlib.legend.Legend at 0x7ff8c4bb38d0>"
      ]
     },
     "execution_count": 25,
     "metadata": {},
     "output_type": "execute_result"
    },
    {
     "data": {
      "image/png": "[encoded data removed]",
      "text/plain": [
       "<Figure size 432x288 with 1 Axes>"
      ]
     },
     "metadata": {
      "needs_background": "light"
     },
     "output_type": "display_data"
    }
   ],
   "source": [
    "#Summarize history for accuracy\n",
    "plt.plot(model_history.history['accuracy'])\n",
    "plt.plot(model_history.history['val_accuracy'])\n",
    "plt.title('Model accuracy')\n",
    "plt.ylabel('accuracy')\n",
    "plt.xlabel('epoch')\n",
    "plt.legend(['train', 'test'], loc='upper left')"
   ]
  },
  {
   "cell_type": "code",
   "execution_count": 26,
   "id": "cd5e057d",
   "metadata": {
    "execution": {
     "iopub.execute_input": "2022-05-30T06:41:58.794383Z",
     "iopub.status.busy": "2022-05-30T06:41:58.793967Z",
     "iopub.status.idle": "2022-05-30T06:41:59.020803Z",
     "shell.execute_reply": "2022-05-30T06:41:59.019897Z"
    },
    "id": "kPp-87_bVpLy",
    "outputId": "240db9de-939d-4cdd-9d86-ca3ccba6db84",
    "papermill": {
     "duration": 0.341149,
     "end_time": "2022-05-30T06:41:59.023380",
     "exception": false,
     "start_time": "2022-05-30T06:41:58.682231",
     "status": "completed"
    },
    "tags": []
   },
   "outputs": [
    {
     "data": {
      "text/plain": [
       "<matplotlib.legend.Legend at 0x7ff8ba7e4290>"
      ]
     },
     "execution_count": 26,
     "metadata": {},
     "output_type": "execute_result"
    },
    {
     "data": {
      "image/png": "[encoded data removed]",
      "text/plain": [
       "<Figure size 432x288 with 1 Axes>"
      ]
     },
     "metadata": {
      "needs_background": "light"
     },
     "output_type": "display_data"
    }
   ],
   "source": [
    "#Summarize history for loss\n",
    "plt.plot(model_history.history['loss'])\n",
    "plt.plot(model_history.history['val_loss'])\n",
    "plt.title('Model loss')\n",
    "plt.ylabel('loss')\n",
    "plt.xlabel('epoch')\n",
    "plt.legend(['train', 'test'], loc='upper left')"
   ]
  },
  {
   "cell_type": "code",
   "execution_count": null,
   "id": "803f0c20",
   "metadata": {
    "papermill": {
     "duration": 0.105845,
     "end_time": "2022-05-30T06:41:59.236198",
     "exception": false,
     "start_time": "2022-05-30T06:41:59.130353",
     "status": "completed"
    },
    "tags": []
   },
   "outputs": [],
   "source": []
  },
  {
   "cell_type": "markdown",
   "id": "e5cf1a07",
   "metadata": {
    "id": "1iMOZ8FsXaZc",
    "papermill": {
     "duration": 0.104759,
     "end_time": "2022-05-30T06:41:59.447452",
     "exception": false,
     "start_time": "2022-05-30T06:41:59.342693",
     "status": "completed"
    },
    "tags": []
   },
   "source": [
    "<a id=5></a> \n",
    "## 5. Test data Prediction"
   ]
  },
  {
   "cell_type": "code",
   "execution_count": 27,
   "id": "2bb33bd8",
   "metadata": {
    "execution": {
     "iopub.execute_input": "2022-05-30T06:41:59.663418Z",
     "iopub.status.busy": "2022-05-30T06:41:59.662717Z",
     "iopub.status.idle": "2022-05-30T06:41:59.937846Z",
     "shell.execute_reply": "2022-05-30T06:41:59.936843Z"
    },
    "id": "VWdVuM3GVpOV",
    "outputId": "abde64fe-250b-468e-f430-3200e7ef416b",
    "papermill": {
     "duration": 0.385587,
     "end_time": "2022-05-30T06:41:59.940209",
     "exception": false,
     "start_time": "2022-05-30T06:41:59.554622",
     "status": "completed"
    },
    "tags": []
   },
   "outputs": [],
   "source": [
    "#make predictions\n",
    "y_pred = classifier.predict(X_valid_sc)\n",
    "y_pred = (y_pred >=0.5)"
   ]
  },
  {
   "cell_type": "code",
   "execution_count": 28,
   "id": "502ab691",
   "metadata": {
    "execution": {
     "iopub.execute_input": "2022-05-30T06:42:00.164682Z",
     "iopub.status.busy": "2022-05-30T06:42:00.163935Z",
     "iopub.status.idle": "2022-05-30T06:42:00.423022Z",
     "shell.execute_reply": "2022-05-30T06:42:00.421839Z"
    },
    "id": "JCPKJUZkVpQ4",
    "outputId": "6c94d437-ea69-4035-b031-6d5bce92b630",
    "papermill": {
     "duration": 0.375256,
     "end_time": "2022-05-30T06:42:00.425339",
     "exception": false,
     "start_time": "2022-05-30T06:42:00.050083",
     "status": "completed"
    },
    "tags": []
   },
   "outputs": [
    {
     "data": {
      "text/plain": [
       "Text(72.5, 0.5, 'Actual')"
      ]
     },
     "execution_count": 28,
     "metadata": {},
     "output_type": "execute_result"
    },
    {
     "data": {
      "image/png": "[encoded data removed]",
      "text/plain": [
       "<Figure size 720x504 with 2 Axes>"
      ]
     },
     "metadata": {
      "needs_background": "light"
     },
     "output_type": "display_data"
    }
   ],
   "source": [
    "#confusion matrix\n",
    "conf_matrix = confusion_matrix(y_valid, y_pred)\n",
    "plt.figure(figsize=(10,7))\n",
    "sns.heatmap(conf_matrix, annot=True,fmt='d')\n",
    "plt.xlabel('Predicted')\n",
    "plt.ylabel('Actual')"
   ]
  },
  {
   "cell_type": "code",
   "execution_count": 29,
   "id": "1b14e4af",
   "metadata": {
    "execution": {
     "iopub.execute_input": "2022-05-30T06:42:00.648825Z",
     "iopub.status.busy": "2022-05-30T06:42:00.648351Z",
     "iopub.status.idle": "2022-05-30T06:42:00.655662Z",
     "shell.execute_reply": "2022-05-30T06:42:00.654050Z"
    },
    "id": "91_18Y2gVpTU",
    "outputId": "a084d320-581f-45a7-b891-776d6cd53a89",
    "papermill": {
     "duration": 0.122441,
     "end_time": "2022-05-30T06:42:00.659355",
     "exception": false,
     "start_time": "2022-05-30T06:42:00.536914",
     "status": "completed"
    },
    "tags": []
   },
   "outputs": [
    {
     "name": "stdout",
     "output_type": "stream",
     "text": [
      "0.851\n"
     ]
    }
   ],
   "source": [
    "#accuracy score\n",
    "print(accuracy_score(y_valid, y_pred))"
   ]
  },
  {
   "cell_type": "code",
   "execution_count": 30,
   "id": "d2112756",
   "metadata": {
    "execution": {
     "iopub.execute_input": "2022-05-30T06:42:00.892899Z",
     "iopub.status.busy": "2022-05-30T06:42:00.891433Z",
     "iopub.status.idle": "2022-05-30T06:42:00.906008Z",
     "shell.execute_reply": "2022-05-30T06:42:00.905118Z"
    },
    "id": "h2BsnEAsVpWK",
    "papermill": {
     "duration": 0.132849,
     "end_time": "2022-05-30T06:42:00.909398",
     "exception": false,
     "start_time": "2022-05-30T06:42:00.776549",
     "status": "completed"
    },
    "tags": []
   },
   "outputs": [
    {
     "name": "stdout",
     "output_type": "stream",
     "text": [
      "              precision    recall  f1-score   support\n",
      "\n",
      "           0       0.85      0.98      0.91      2379\n",
      "           1       0.84      0.34      0.49       621\n",
      "\n",
      "    accuracy                           0.85      3000\n",
      "   macro avg       0.85      0.66      0.70      3000\n",
      "weighted avg       0.85      0.85      0.83      3000\n",
      "\n"
     ]
    }
   ],
   "source": [
    "print(classification_report(y_valid, y_pred))"
   ]
  },
  {
   "cell_type": "code",
   "execution_count": null,
   "id": "782d42eb",
   "metadata": {
    "id": "6ginlaNnVpY8",
    "papermill": {
     "duration": 0.109416,
     "end_time": "2022-05-30T06:42:01.138962",
     "exception": false,
     "start_time": "2022-05-30T06:42:01.029546",
     "status": "completed"
    },
    "tags": []
   },
   "outputs": [],
   "source": []
  },
  {
   "cell_type": "code",
   "execution_count": null,
   "id": "4750a780",
   "metadata": {
    "id": "HspIeBW3Vpbc",
    "papermill": {
     "duration": 0.110905,
     "end_time": "2022-05-30T06:42:01.360522",
     "exception": false,
     "start_time": "2022-05-30T06:42:01.249617",
     "status": "completed"
    },
    "tags": []
   },
   "outputs": [],
   "source": []
  }
 ],
 "metadata": {
  "kernelspec": {
   "display_name": "Python 3",
   "language": "python",
   "name": "python3"
  },
  "language_info": {
   "codemirror_mode": {
    "name": "ipython",
    "version": 3
   },
   "file_extension": ".py",
   "mimetype": "text/x-python",
   "name": "python",
   "nbconvert_exporter": "python",
   "pygments_lexer": "ipython3",
   "version": "3.7.12"
  },
  "papermill": {
   "default_parameters": {},
   "duration": 110.461345,
   "end_time": "2022-05-30T06:42:05.021543",
   "environment_variables": {},
   "exception": null,
   "input_path": "__notebook__.ipynb",
   "output_path": "__notebook__.ipynb",
   "parameters": {},
   "start_time": "2022-05-30T06:40:14.560198",
   "version": "2.3.4"
  }
 },
 "nbformat": 4,
 "nbformat_minor": 5
}
