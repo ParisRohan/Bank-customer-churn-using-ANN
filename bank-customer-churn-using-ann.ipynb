{
 "cells": [
  {
   "cell_type": "markdown",
   "id": "a2d25637",
   "metadata": {
    "id": "OgKTSi-c_47Q",
    "papermill": {
     "duration": 0.013666,
     "end_time": "2022-05-30T17:20:54.706043",
     "exception": false,
     "start_time": "2022-05-30T17:20:54.692377",
     "status": "completed"
    },
    "tags": []
   },
   "source": [
    "## What is Customer churn?\n",
    "* Customer attrition, also known as customer churn, customer turnover, or customer defection, is the loss of clients or customers. A high churn means that a higher number of customers no longer want to purchase goods and services from the business. The customer churn rate can be calculated by dividing the total number of customers who have left the service by the total number of active customers present at the start of the period. For example, if you got 1000 customers and lost 50 last month, your monthly churn rate is 5 percent.\n",
    "* The primary objective of building a customer churn predictive model is to retain customers at the highest risk of churn by proactively engaging with them. For example: Offer a gift voucher or any promotional pricing and lock them in for an additional year or two to extend their lifetime value to the company."
   ]
  },
  {
   "cell_type": "markdown",
   "id": "3eb07fef",
   "metadata": {
    "id": "L-HhtLMqApVx",
    "papermill": {
     "duration": 0.012381,
     "end_time": "2022-05-30T17:20:54.730680",
     "exception": false,
     "start_time": "2022-05-30T17:20:54.718299",
     "status": "completed"
    },
    "tags": []
   },
   "source": [
    "<a id=0></a>\n",
    "## [Introduction](#0)\n",
    "Bank customer churn prediction using ANN\n",
    "\n",
    "## Workflow\n",
    "\n",
    "1. [Data collection and initial analysis](#1)\n",
    "2. [EDA](#2)\n",
    "3. [Data-preprocessing](#3)\n",
    "4. [Model building](#4)\n",
    "5. [Test data predictions](#5)"
   ]
  },
  {
   "cell_type": "markdown",
   "id": "8967a49a",
   "metadata": {
    "id": "tAVZIOWZAwVf",
    "papermill": {
     "duration": 0.011645,
     "end_time": "2022-05-30T17:20:54.754976",
     "exception": false,
     "start_time": "2022-05-30T17:20:54.743331",
     "status": "completed"
    },
    "tags": []
   },
   "source": [
    "<a id=1></a> \n",
    "## 1. Data collection and initial analysis"
   ]
  },
  {
   "cell_type": "code",
   "execution_count": 1,
   "id": "811c618d",
   "metadata": {
    "execution": {
     "iopub.execute_input": "2022-05-30T17:20:54.780829Z",
     "iopub.status.busy": "2022-05-30T17:20:54.779884Z",
     "iopub.status.idle": "2022-05-30T17:20:54.786644Z",
     "shell.execute_reply": "2022-05-30T17:20:54.785515Z"
    },
    "id": "oSYBLoq-BKWE",
    "outputId": "ff79cf18-0215-493d-cf34-be2ff2f5194f",
    "papermill": {
     "duration": 0.023174,
     "end_time": "2022-05-30T17:20:54.789782",
     "exception": false,
     "start_time": "2022-05-30T17:20:54.766608",
     "status": "completed"
    },
    "tags": []
   },
   "outputs": [],
   "source": [
    "#!pip install tensorflow-gpu"
   ]
  },
  {
   "cell_type": "code",
   "execution_count": 2,
   "id": "03e12b00",
   "metadata": {
    "execution": {
     "iopub.execute_input": "2022-05-30T17:20:54.815436Z",
     "iopub.status.busy": "2022-05-30T17:20:54.814697Z",
     "iopub.status.idle": "2022-05-30T17:21:03.526251Z",
     "shell.execute_reply": "2022-05-30T17:21:03.525063Z"
    },
    "id": "k2xrMRgx_43y",
    "papermill": {
     "duration": 8.728,
     "end_time": "2022-05-30T17:21:03.529191",
     "exception": false,
     "start_time": "2022-05-30T17:20:54.801191",
     "status": "completed"
    },
    "tags": []
   },
   "outputs": [
    {
     "name": "stdout",
     "output_type": "stream",
     "text": [
      "/kaggle/input/churn-for-bank-customers/churn.csv\n"
     ]
    }
   ],
   "source": [
    "#Import required libraries\n",
    "\n",
    "#Computing libraries\n",
    "import pandas as pd\n",
    "import numpy as np\n",
    "\n",
    "#Visualizations library\n",
    "import matplotlib.pyplot as plt\n",
    "import seaborn as sns\n",
    "plt.style.use(\"seaborn-whitegrid\")\n",
    "%matplotlib inline\n",
    "\n",
    "#Model building libraries\n",
    "from sklearn.model_selection import train_test_split\n",
    "from sklearn.preprocessing import StandardScaler\n",
    "\n",
    "#Deep learning libraries\n",
    "import tensorflow as tf\n",
    "\n",
    "#DL library to use forward and backward propogation\n",
    "from tensorflow.keras.models import Sequential\n",
    "\n",
    "#DL library to build input/hidden/output layers\n",
    "from tensorflow.keras.layers import Dense\n",
    "\n",
    "#DL library to prevent overfitting\n",
    "from tensorflow.keras.layers import Dropout\n",
    "\n",
    "#DL library to use activation function\n",
    "from tensorflow.keras.layers import LeakyReLU, ReLU\n",
    "\n",
    "#DL library to use optimizer\n",
    "from tensorflow.keras.optimizers import Adam\n",
    "\n",
    "#DL library for hyperparameter tuning\n",
    "from tensorflow import keras\n",
    "import keras_tuner as kt\n",
    "\n",
    "#Performance metrics\n",
    "from sklearn.metrics import confusion_matrix, accuracy_score, classification_report\n",
    "\n",
    "#import library used for counting the number of observations\n",
    "from collections import Counter\n",
    "\n",
    "#import library to perform resampling\n",
    "from imblearn.over_sampling import SMOTE\n",
    "\n",
    "import warnings\n",
    "warnings.filterwarnings('ignore')\n",
    "\n",
    "import os\n",
    "for dirname, _, filenames in os.walk('/kaggle/input'):\n",
    "    for filename in filenames:\n",
    "        print(os.path.join(dirname, filename))"
   ]
  },
  {
   "cell_type": "code",
   "execution_count": 3,
   "id": "6b247e04",
   "metadata": {
    "execution": {
     "iopub.execute_input": "2022-05-30T17:21:03.557586Z",
     "iopub.status.busy": "2022-05-30T17:21:03.556751Z",
     "iopub.status.idle": "2022-05-30T17:21:03.561910Z",
     "shell.execute_reply": "2022-05-30T17:21:03.560484Z"
    },
    "id": "iC-Toq00_408",
    "outputId": "6028b0fd-d91c-4689-98c9-82f887c3e520",
    "papermill": {
     "duration": 0.022503,
     "end_time": "2022-05-30T17:21:03.564120",
     "exception": false,
     "start_time": "2022-05-30T17:21:03.541617",
     "status": "completed"
    },
    "tags": []
   },
   "outputs": [
    {
     "name": "stdout",
     "output_type": "stream",
     "text": [
      "2.6.4\n"
     ]
    }
   ],
   "source": [
    "#Check the installed tensorflow version\n",
    "print(tf.__version__)"
   ]
  },
  {
   "cell_type": "code",
   "execution_count": null,
   "id": "ce4bcd88",
   "metadata": {
    "papermill": {
     "duration": 0.011716,
     "end_time": "2022-05-30T17:21:03.589089",
     "exception": false,
     "start_time": "2022-05-30T17:21:03.577373",
     "status": "completed"
    },
    "tags": []
   },
   "outputs": [],
   "source": []
  },
  {
   "cell_type": "code",
   "execution_count": 4,
   "id": "1423a04b",
   "metadata": {
    "execution": {
     "iopub.execute_input": "2022-05-30T17:21:03.615741Z",
     "iopub.status.busy": "2022-05-30T17:21:03.615305Z",
     "iopub.status.idle": "2022-05-30T17:21:03.684480Z",
     "shell.execute_reply": "2022-05-30T17:21:03.683521Z"
    },
    "id": "bNMk3pk1_4yP",
    "outputId": "1955589e-f785-4ab5-97e0-07ae0bbcec7f",
    "papermill": {
     "duration": 0.085263,
     "end_time": "2022-05-30T17:21:03.686813",
     "exception": false,
     "start_time": "2022-05-30T17:21:03.601550",
     "status": "completed"
    },
    "tags": []
   },
   "outputs": [
    {
     "data": {
      "text/html": [
       "<div>\n",
       "<style scoped>\n",
       "    .dataframe tbody tr th:only-of-type {\n",
       "        vertical-align: middle;\n",
       "    }\n",
       "\n",
       "    .dataframe tbody tr th {\n",
       "        vertical-align: top;\n",
       "    }\n",
       "\n",
       "    .dataframe thead th {\n",
       "        text-align: right;\n",
       "    }\n",
       "</style>\n",
       "<table border=\"1\" class=\"dataframe\">\n",
       "  <thead>\n",
       "    <tr style=\"text-align: right;\">\n",
       "      <th></th>\n",
       "      <th>RowNumber</th>\n",
       "      <th>CustomerId</th>\n",
       "      <th>Surname</th>\n",
       "      <th>CreditScore</th>\n",
       "      <th>Geography</th>\n",
       "      <th>Gender</th>\n",
       "      <th>Age</th>\n",
       "      <th>Tenure</th>\n",
       "      <th>Balance</th>\n",
       "      <th>NumOfProducts</th>\n",
       "      <th>HasCrCard</th>\n",
       "      <th>IsActiveMember</th>\n",
       "      <th>EstimatedSalary</th>\n",
       "      <th>Exited</th>\n",
       "    </tr>\n",
       "  </thead>\n",
       "  <tbody>\n",
       "    <tr>\n",
       "      <th>0</th>\n",
       "      <td>1</td>\n",
       "      <td>15634602</td>\n",
       "      <td>Hargrave</td>\n",
       "      <td>619</td>\n",
       "      <td>France</td>\n",
       "      <td>Female</td>\n",
       "      <td>42</td>\n",
       "      <td>2</td>\n",
       "      <td>0.00</td>\n",
       "      <td>1</td>\n",
       "      <td>1</td>\n",
       "      <td>1</td>\n",
       "      <td>101348.88</td>\n",
       "      <td>1</td>\n",
       "    </tr>\n",
       "    <tr>\n",
       "      <th>1</th>\n",
       "      <td>2</td>\n",
       "      <td>15647311</td>\n",
       "      <td>Hill</td>\n",
       "      <td>608</td>\n",
       "      <td>Spain</td>\n",
       "      <td>Female</td>\n",
       "      <td>41</td>\n",
       "      <td>1</td>\n",
       "      <td>83807.86</td>\n",
       "      <td>1</td>\n",
       "      <td>0</td>\n",
       "      <td>1</td>\n",
       "      <td>112542.58</td>\n",
       "      <td>0</td>\n",
       "    </tr>\n",
       "    <tr>\n",
       "      <th>2</th>\n",
       "      <td>3</td>\n",
       "      <td>15619304</td>\n",
       "      <td>Onio</td>\n",
       "      <td>502</td>\n",
       "      <td>France</td>\n",
       "      <td>Female</td>\n",
       "      <td>42</td>\n",
       "      <td>8</td>\n",
       "      <td>159660.80</td>\n",
       "      <td>3</td>\n",
       "      <td>1</td>\n",
       "      <td>0</td>\n",
       "      <td>113931.57</td>\n",
       "      <td>1</td>\n",
       "    </tr>\n",
       "    <tr>\n",
       "      <th>3</th>\n",
       "      <td>4</td>\n",
       "      <td>15701354</td>\n",
       "      <td>Boni</td>\n",
       "      <td>699</td>\n",
       "      <td>France</td>\n",
       "      <td>Female</td>\n",
       "      <td>39</td>\n",
       "      <td>1</td>\n",
       "      <td>0.00</td>\n",
       "      <td>2</td>\n",
       "      <td>0</td>\n",
       "      <td>0</td>\n",
       "      <td>93826.63</td>\n",
       "      <td>0</td>\n",
       "    </tr>\n",
       "    <tr>\n",
       "      <th>4</th>\n",
       "      <td>5</td>\n",
       "      <td>15737888</td>\n",
       "      <td>Mitchell</td>\n",
       "      <td>850</td>\n",
       "      <td>Spain</td>\n",
       "      <td>Female</td>\n",
       "      <td>43</td>\n",
       "      <td>2</td>\n",
       "      <td>125510.82</td>\n",
       "      <td>1</td>\n",
       "      <td>1</td>\n",
       "      <td>1</td>\n",
       "      <td>79084.10</td>\n",
       "      <td>0</td>\n",
       "    </tr>\n",
       "  </tbody>\n",
       "</table>\n",
       "</div>"
      ],
      "text/plain": [
       "   RowNumber  CustomerId   Surname  CreditScore Geography  Gender  Age  \\\n",
       "0          1    15634602  Hargrave          619    France  Female   42   \n",
       "1          2    15647311      Hill          608     Spain  Female   41   \n",
       "2          3    15619304      Onio          502    France  Female   42   \n",
       "3          4    15701354      Boni          699    France  Female   39   \n",
       "4          5    15737888  Mitchell          850     Spain  Female   43   \n",
       "\n",
       "   Tenure    Balance  NumOfProducts  HasCrCard  IsActiveMember  \\\n",
       "0       2       0.00              1          1               1   \n",
       "1       1   83807.86              1          0               1   \n",
       "2       8  159660.80              3          1               0   \n",
       "3       1       0.00              2          0               0   \n",
       "4       2  125510.82              1          1               1   \n",
       "\n",
       "   EstimatedSalary  Exited  \n",
       "0        101348.88       1  \n",
       "1        112542.58       0  \n",
       "2        113931.57       1  \n",
       "3         93826.63       0  \n",
       "4         79084.10       0  "
      ]
     },
     "execution_count": 4,
     "metadata": {},
     "output_type": "execute_result"
    }
   ],
   "source": [
    "#dataset link='https://www.kaggle.com/datasets/mathchi/churn-for-bank-customers'\n",
    "\n",
    "#load the dataset\n",
    "df_data = pd.read_csv('/kaggle/input/churn-for-bank-customers/churn.csv')\n",
    "df_data.head()"
   ]
  },
  {
   "cell_type": "code",
   "execution_count": 5,
   "id": "56f35184",
   "metadata": {
    "execution": {
     "iopub.execute_input": "2022-05-30T17:21:03.714247Z",
     "iopub.status.busy": "2022-05-30T17:21:03.713760Z",
     "iopub.status.idle": "2022-05-30T17:21:03.747449Z",
     "shell.execute_reply": "2022-05-30T17:21:03.745448Z"
    },
    "id": "fQFHRl-u_4vd",
    "outputId": "6aed0c8c-5451-44dc-bf7c-eca0d2313418",
    "papermill": {
     "duration": 0.050909,
     "end_time": "2022-05-30T17:21:03.749946",
     "exception": false,
     "start_time": "2022-05-30T17:21:03.699037",
     "status": "completed"
    },
    "tags": []
   },
   "outputs": [
    {
     "name": "stdout",
     "output_type": "stream",
     "text": [
      "<class 'pandas.core.frame.DataFrame'>\n",
      "RangeIndex: 10000 entries, 0 to 9999\n",
      "Data columns (total 14 columns):\n",
      " #   Column           Non-Null Count  Dtype  \n",
      "---  ------           --------------  -----  \n",
      " 0   RowNumber        10000 non-null  int64  \n",
      " 1   CustomerId       10000 non-null  int64  \n",
      " 2   Surname          10000 non-null  object \n",
      " 3   CreditScore      10000 non-null  int64  \n",
      " 4   Geography        10000 non-null  object \n",
      " 5   Gender           10000 non-null  object \n",
      " 6   Age              10000 non-null  int64  \n",
      " 7   Tenure           10000 non-null  int64  \n",
      " 8   Balance          10000 non-null  float64\n",
      " 9   NumOfProducts    10000 non-null  int64  \n",
      " 10  HasCrCard        10000 non-null  int64  \n",
      " 11  IsActiveMember   10000 non-null  int64  \n",
      " 12  EstimatedSalary  10000 non-null  float64\n",
      " 13  Exited           10000 non-null  int64  \n",
      "dtypes: float64(2), int64(9), object(3)\n",
      "memory usage: 1.1+ MB\n"
     ]
    }
   ],
   "source": [
    "df_data.info()"
   ]
  },
  {
   "cell_type": "markdown",
   "id": "bf65ff1c",
   "metadata": {
    "id": "NPa_8ETHCf5n",
    "papermill": {
     "duration": 0.012488,
     "end_time": "2022-05-30T17:21:03.774933",
     "exception": false,
     "start_time": "2022-05-30T17:21:03.762445",
     "status": "completed"
    },
    "tags": []
   },
   "source": [
    "### Feature Description:\n",
    "\n",
    "* RowNumber—corresponds to the record (row) number and has no effect on the output.\n",
    "* CustomerId—contains random values and has no effect on customer leaving the bank.\n",
    "* Surname—the surname of a customer has no impact on their decision to leave the bank.\n",
    "* CreditScore—can have an effect on customer churn, since a customer with a higher credit score is less likely to leave the bank.\n",
    "* Geography—a customer’s location can affect their decision to leave the bank.\n",
    "* Gender—it’s interesting to explore whether gender plays a role in a customer leaving the bank.\n",
    "* Age—this is certainly relevant, since older customers are less likely to leave their bank than younger ones.\n",
    "* Tenure—refers to the number of years that the customer has been a client of the bank. Normally, older clients are more loyal and less likely to leave a bank.\n",
    "* Balance—also a very good indicator of customer churn, as people with a higher balance in their accounts are less likely to leave the bank compared to those with lower balances.\n",
    "* NumOfProducts—refers to the number of products that a customer has purchased through the bank.\n",
    "* HasCrCard—denotes whether or not a customer has a credit card. This column is also relevant, since people with a credit card are less likely to leave the bank.\n",
    "* IsActiveMember—active customers are less likely to leave the bank.\n",
    "* EstimatedSalary—as with balance, people with lower salaries are more likely to leave the bank compared to those with higher salaries.\n",
    "* Exited—whether or not the customer left the bank."
   ]
  },
  {
   "cell_type": "code",
   "execution_count": 6,
   "id": "dca25c2e",
   "metadata": {
    "execution": {
     "iopub.execute_input": "2022-05-30T17:21:03.802026Z",
     "iopub.status.busy": "2022-05-30T17:21:03.801574Z",
     "iopub.status.idle": "2022-05-30T17:21:03.815331Z",
     "shell.execute_reply": "2022-05-30T17:21:03.814162Z"
    },
    "id": "u6G7m55N_4sp",
    "outputId": "947b9c26-21ac-4814-e777-e445a9b21f8f",
    "papermill": {
     "duration": 0.030266,
     "end_time": "2022-05-30T17:21:03.817742",
     "exception": false,
     "start_time": "2022-05-30T17:21:03.787476",
     "status": "completed"
    },
    "tags": []
   },
   "outputs": [
    {
     "data": {
      "text/plain": [
       "RowNumber          0\n",
       "CustomerId         0\n",
       "Surname            0\n",
       "CreditScore        0\n",
       "Geography          0\n",
       "Gender             0\n",
       "Age                0\n",
       "Tenure             0\n",
       "Balance            0\n",
       "NumOfProducts      0\n",
       "HasCrCard          0\n",
       "IsActiveMember     0\n",
       "EstimatedSalary    0\n",
       "Exited             0\n",
       "dtype: int64"
      ]
     },
     "execution_count": 6,
     "metadata": {},
     "output_type": "execute_result"
    }
   ],
   "source": [
    "#Check for missing values\n",
    "df_data.isnull().sum()"
   ]
  },
  {
   "cell_type": "markdown",
   "id": "5faa0a5b",
   "metadata": {
    "id": "7LAaJzUXD3tm",
    "papermill": {
     "duration": 0.012546,
     "end_time": "2022-05-30T17:21:03.844104",
     "exception": false,
     "start_time": "2022-05-30T17:21:03.831558",
     "status": "completed"
    },
    "tags": []
   },
   "source": [
    "<a id=2></a> \n",
    "## 2. EDA"
   ]
  },
  {
   "cell_type": "code",
   "execution_count": 7,
   "id": "8d970206",
   "metadata": {
    "execution": {
     "iopub.execute_input": "2022-05-30T17:21:03.871207Z",
     "iopub.status.busy": "2022-05-30T17:21:03.870777Z",
     "iopub.status.idle": "2022-05-30T17:21:04.090182Z",
     "shell.execute_reply": "2022-05-30T17:21:04.089187Z"
    },
    "id": "GMzaszTa_4p5",
    "outputId": "0874e3df-c531-46bd-b37c-c8f642b91893",
    "papermill": {
     "duration": 0.235941,
     "end_time": "2022-05-30T17:21:04.092460",
     "exception": false,
     "start_time": "2022-05-30T17:21:03.856519",
     "status": "completed"
    },
    "tags": []
   },
   "outputs": [
    {
     "data": {
      "text/plain": [
       "<AxesSubplot:xlabel='Exited', ylabel='count'>"
      ]
     },
     "execution_count": 7,
     "metadata": {},
     "output_type": "execute_result"
    },
    {
     "data": {
      "image/png": "[encoded data removed]",
      "text/plain": [
       "<Figure size 432x288 with 1 Axes>"
      ]
     },
     "metadata": {
      "needs_background": "light"
     },
     "output_type": "display_data"
    }
   ],
   "source": [
    "#Target feature distribution\n",
    "sns.countplot(x='Exited', data=df_data)"
   ]
  },
  {
   "cell_type": "code",
   "execution_count": 8,
   "id": "b7f6de6a",
   "metadata": {
    "execution": {
     "iopub.execute_input": "2022-05-30T17:21:04.120705Z",
     "iopub.status.busy": "2022-05-30T17:21:04.120292Z",
     "iopub.status.idle": "2022-05-30T17:21:04.419571Z",
     "shell.execute_reply": "2022-05-30T17:21:04.418253Z"
    },
    "id": "ZvbRE0uZFM8h",
    "outputId": "5d859738-c47a-465f-8b2c-000286d10b2d",
    "papermill": {
     "duration": 0.316271,
     "end_time": "2022-05-30T17:21:04.422113",
     "exception": false,
     "start_time": "2022-05-30T17:21:04.105842",
     "status": "completed"
    },
    "tags": []
   },
   "outputs": [
    {
     "data": {
      "text/plain": [
       "<AxesSubplot:xlabel='Exited', ylabel='count'>"
      ]
     },
     "execution_count": 8,
     "metadata": {},
     "output_type": "execute_result"
    },
    {
     "data": {
      "image/png": "[encoded data removed]",
      "text/plain": [
       "<Figure size 720x360 with 2 Axes>"
      ]
     },
     "metadata": {
      "needs_background": "light"
     },
     "output_type": "display_data"
    }
   ],
   "source": [
    "# Check the distribution of gender\n",
    "plt.figure(figsize=(10,5))\n",
    "\n",
    "#plot pie chart\n",
    "plt.subplot(1,2,1)\n",
    "label = df_data.Gender.value_counts().index\n",
    "label_count = df_data.Gender.value_counts().values\n",
    "\n",
    "plt.pie(data=df_data, x=label_count, labels=label, autopct='%1.1f%%', shadow=True, radius=1)\n",
    "\n",
    "#Target feature distribution with Gender feature\n",
    "plt.subplot(1,2,2)\n",
    "sns.countplot(x='Exited', data=df_data ,hue='Gender')"
   ]
  },
  {
   "cell_type": "code",
   "execution_count": 9,
   "id": "a7fd1bb8",
   "metadata": {
    "execution": {
     "iopub.execute_input": "2022-05-30T17:21:04.452062Z",
     "iopub.status.busy": "2022-05-30T17:21:04.451658Z",
     "iopub.status.idle": "2022-05-30T17:21:04.783776Z",
     "shell.execute_reply": "2022-05-30T17:21:04.782600Z"
    },
    "id": "0H5SDTwp_4hd",
    "outputId": "a7103b44-2e39-44da-802a-fd25da3d229a",
    "papermill": {
     "duration": 0.350316,
     "end_time": "2022-05-30T17:21:04.785956",
     "exception": false,
     "start_time": "2022-05-30T17:21:04.435640",
     "status": "completed"
    },
    "tags": []
   },
   "outputs": [
    {
     "data": {
      "text/plain": [
       "<AxesSubplot:xlabel='Exited', ylabel='count'>"
      ]
     },
     "execution_count": 9,
     "metadata": {},
     "output_type": "execute_result"
    },
    {
     "data": {
      "image/png": "[encoded data removed]",
      "text/plain": [
       "<Figure size 720x360 with 2 Axes>"
      ]
     },
     "metadata": {
      "needs_background": "light"
     },
     "output_type": "display_data"
    }
   ],
   "source": [
    "# Check the distribution of Geography\n",
    "plt.figure(figsize=(10,5))\n",
    "\n",
    "#plot pie chart\n",
    "plt.subplot(1,2,1)\n",
    "label = df_data.Geography.value_counts().index\n",
    "label_count = df_data.Geography.value_counts().values\n",
    "\n",
    "plt.pie(data=df_data, x=label_count, labels=label, autopct='%1.1f%%', shadow=True, radius=1)\n",
    "\n",
    "#Target feature distribution with Gender feature\n",
    "plt.subplot(1,2,2)\n",
    "sns.countplot(x='Exited', data=df_data ,hue='Geography')"
   ]
  },
  {
   "cell_type": "markdown",
   "id": "dea04609",
   "metadata": {
    "id": "D0rfDGNrJPI6",
    "papermill": {
     "duration": 0.015679,
     "end_time": "2022-05-30T17:21:04.816294",
     "exception": false,
     "start_time": "2022-05-30T17:21:04.800615",
     "status": "completed"
    },
    "tags": []
   },
   "source": [
    "<a id=3></a> \n",
    "## 3. Data-preprocessing"
   ]
  },
  {
   "cell_type": "code",
   "execution_count": 10,
   "id": "b945b4d7",
   "metadata": {
    "execution": {
     "iopub.execute_input": "2022-05-30T17:21:04.847383Z",
     "iopub.status.busy": "2022-05-30T17:21:04.846986Z",
     "iopub.status.idle": "2022-05-30T17:21:04.863709Z",
     "shell.execute_reply": "2022-05-30T17:21:04.862760Z"
    },
    "id": "CLk9IGGI_4cY",
    "outputId": "3b93bb79-075e-4fc6-fcf9-8aeb0b93f4f6",
    "papermill": {
     "duration": 0.034746,
     "end_time": "2022-05-30T17:21:04.865757",
     "exception": false,
     "start_time": "2022-05-30T17:21:04.831011",
     "status": "completed"
    },
    "tags": []
   },
   "outputs": [
    {
     "data": {
      "text/html": [
       "<div>\n",
       "<style scoped>\n",
       "    .dataframe tbody tr th:only-of-type {\n",
       "        vertical-align: middle;\n",
       "    }\n",
       "\n",
       "    .dataframe tbody tr th {\n",
       "        vertical-align: top;\n",
       "    }\n",
       "\n",
       "    .dataframe thead th {\n",
       "        text-align: right;\n",
       "    }\n",
       "</style>\n",
       "<table border=\"1\" class=\"dataframe\">\n",
       "  <thead>\n",
       "    <tr style=\"text-align: right;\">\n",
       "      <th></th>\n",
       "      <th>RowNumber</th>\n",
       "      <th>CustomerId</th>\n",
       "      <th>Surname</th>\n",
       "      <th>CreditScore</th>\n",
       "      <th>Geography</th>\n",
       "      <th>Gender</th>\n",
       "      <th>Age</th>\n",
       "      <th>Tenure</th>\n",
       "      <th>Balance</th>\n",
       "      <th>NumOfProducts</th>\n",
       "      <th>HasCrCard</th>\n",
       "      <th>IsActiveMember</th>\n",
       "      <th>EstimatedSalary</th>\n",
       "      <th>Exited</th>\n",
       "    </tr>\n",
       "  </thead>\n",
       "  <tbody>\n",
       "    <tr>\n",
       "      <th>0</th>\n",
       "      <td>1</td>\n",
       "      <td>15634602</td>\n",
       "      <td>Hargrave</td>\n",
       "      <td>619</td>\n",
       "      <td>France</td>\n",
       "      <td>Female</td>\n",
       "      <td>42</td>\n",
       "      <td>2</td>\n",
       "      <td>0.00</td>\n",
       "      <td>1</td>\n",
       "      <td>1</td>\n",
       "      <td>1</td>\n",
       "      <td>101348.88</td>\n",
       "      <td>1</td>\n",
       "    </tr>\n",
       "    <tr>\n",
       "      <th>1</th>\n",
       "      <td>2</td>\n",
       "      <td>15647311</td>\n",
       "      <td>Hill</td>\n",
       "      <td>608</td>\n",
       "      <td>Spain</td>\n",
       "      <td>Female</td>\n",
       "      <td>41</td>\n",
       "      <td>1</td>\n",
       "      <td>83807.86</td>\n",
       "      <td>1</td>\n",
       "      <td>0</td>\n",
       "      <td>1</td>\n",
       "      <td>112542.58</td>\n",
       "      <td>0</td>\n",
       "    </tr>\n",
       "    <tr>\n",
       "      <th>2</th>\n",
       "      <td>3</td>\n",
       "      <td>15619304</td>\n",
       "      <td>Onio</td>\n",
       "      <td>502</td>\n",
       "      <td>France</td>\n",
       "      <td>Female</td>\n",
       "      <td>42</td>\n",
       "      <td>8</td>\n",
       "      <td>159660.80</td>\n",
       "      <td>3</td>\n",
       "      <td>1</td>\n",
       "      <td>0</td>\n",
       "      <td>113931.57</td>\n",
       "      <td>1</td>\n",
       "    </tr>\n",
       "    <tr>\n",
       "      <th>3</th>\n",
       "      <td>4</td>\n",
       "      <td>15701354</td>\n",
       "      <td>Boni</td>\n",
       "      <td>699</td>\n",
       "      <td>France</td>\n",
       "      <td>Female</td>\n",
       "      <td>39</td>\n",
       "      <td>1</td>\n",
       "      <td>0.00</td>\n",
       "      <td>2</td>\n",
       "      <td>0</td>\n",
       "      <td>0</td>\n",
       "      <td>93826.63</td>\n",
       "      <td>0</td>\n",
       "    </tr>\n",
       "    <tr>\n",
       "      <th>4</th>\n",
       "      <td>5</td>\n",
       "      <td>15737888</td>\n",
       "      <td>Mitchell</td>\n",
       "      <td>850</td>\n",
       "      <td>Spain</td>\n",
       "      <td>Female</td>\n",
       "      <td>43</td>\n",
       "      <td>2</td>\n",
       "      <td>125510.82</td>\n",
       "      <td>1</td>\n",
       "      <td>1</td>\n",
       "      <td>1</td>\n",
       "      <td>79084.10</td>\n",
       "      <td>0</td>\n",
       "    </tr>\n",
       "  </tbody>\n",
       "</table>\n",
       "</div>"
      ],
      "text/plain": [
       "   RowNumber  CustomerId   Surname  CreditScore Geography  Gender  Age  \\\n",
       "0          1    15634602  Hargrave          619    France  Female   42   \n",
       "1          2    15647311      Hill          608     Spain  Female   41   \n",
       "2          3    15619304      Onio          502    France  Female   42   \n",
       "3          4    15701354      Boni          699    France  Female   39   \n",
       "4          5    15737888  Mitchell          850     Spain  Female   43   \n",
       "\n",
       "   Tenure    Balance  NumOfProducts  HasCrCard  IsActiveMember  \\\n",
       "0       2       0.00              1          1               1   \n",
       "1       1   83807.86              1          0               1   \n",
       "2       8  159660.80              3          1               0   \n",
       "3       1       0.00              2          0               0   \n",
       "4       2  125510.82              1          1               1   \n",
       "\n",
       "   EstimatedSalary  Exited  \n",
       "0        101348.88       1  \n",
       "1        112542.58       0  \n",
       "2        113931.57       1  \n",
       "3         93826.63       0  \n",
       "4         79084.10       0  "
      ]
     },
     "execution_count": 10,
     "metadata": {},
     "output_type": "execute_result"
    }
   ],
   "source": [
    "df_data.head()"
   ]
  },
  {
   "cell_type": "code",
   "execution_count": 11,
   "id": "27cb34a3",
   "metadata": {
    "execution": {
     "iopub.execute_input": "2022-05-30T17:21:04.897474Z",
     "iopub.status.busy": "2022-05-30T17:21:04.897040Z",
     "iopub.status.idle": "2022-05-30T17:21:04.905401Z",
     "shell.execute_reply": "2022-05-30T17:21:04.903957Z"
    },
    "id": "b8uFi3wO_4Zw",
    "papermill": {
     "duration": 0.026657,
     "end_time": "2022-05-30T17:21:04.907412",
     "exception": false,
     "start_time": "2022-05-30T17:21:04.880755",
     "status": "completed"
    },
    "tags": []
   },
   "outputs": [],
   "source": [
    "#drop features which are not required\n",
    "df_data.drop(['RowNumber', 'CustomerId', 'Surname'], axis=1, inplace=True)"
   ]
  },
  {
   "cell_type": "code",
   "execution_count": 12,
   "id": "b308dd44",
   "metadata": {
    "execution": {
     "iopub.execute_input": "2022-05-30T17:21:04.939137Z",
     "iopub.status.busy": "2022-05-30T17:21:04.938754Z",
     "iopub.status.idle": "2022-05-30T17:21:04.950722Z",
     "shell.execute_reply": "2022-05-30T17:21:04.949374Z"
    },
    "id": "Vn1xCd7S_4Uh",
    "papermill": {
     "duration": 0.032261,
     "end_time": "2022-05-30T17:21:04.954672",
     "exception": false,
     "start_time": "2022-05-30T17:21:04.922411",
     "status": "completed"
    },
    "tags": []
   },
   "outputs": [],
   "source": [
    "#Onehot encode categorical features\n",
    "geog = pd.get_dummies(df_data['Geography'], drop_first=True)\n",
    "gen = pd.get_dummies(df_data['Gender'], drop_first=True)"
   ]
  },
  {
   "cell_type": "code",
   "execution_count": 13,
   "id": "3ef7a7db",
   "metadata": {
    "execution": {
     "iopub.execute_input": "2022-05-30T17:21:04.993520Z",
     "iopub.status.busy": "2022-05-30T17:21:04.992940Z",
     "iopub.status.idle": "2022-05-30T17:21:05.010563Z",
     "shell.execute_reply": "2022-05-30T17:21:05.007522Z"
    },
    "id": "blrxLJfL_4R5",
    "outputId": "713132af-6035-4c3f-e650-b1be188a733d",
    "papermill": {
     "duration": 0.041658,
     "end_time": "2022-05-30T17:21:05.015782",
     "exception": false,
     "start_time": "2022-05-30T17:21:04.974124",
     "status": "completed"
    },
    "tags": []
   },
   "outputs": [
    {
     "data": {
      "text/html": [
       "<div>\n",
       "<style scoped>\n",
       "    .dataframe tbody tr th:only-of-type {\n",
       "        vertical-align: middle;\n",
       "    }\n",
       "\n",
       "    .dataframe tbody tr th {\n",
       "        vertical-align: top;\n",
       "    }\n",
       "\n",
       "    .dataframe thead th {\n",
       "        text-align: right;\n",
       "    }\n",
       "</style>\n",
       "<table border=\"1\" class=\"dataframe\">\n",
       "  <thead>\n",
       "    <tr style=\"text-align: right;\">\n",
       "      <th></th>\n",
       "      <th>Germany</th>\n",
       "      <th>Spain</th>\n",
       "    </tr>\n",
       "  </thead>\n",
       "  <tbody>\n",
       "    <tr>\n",
       "      <th>0</th>\n",
       "      <td>0</td>\n",
       "      <td>0</td>\n",
       "    </tr>\n",
       "    <tr>\n",
       "      <th>1</th>\n",
       "      <td>0</td>\n",
       "      <td>1</td>\n",
       "    </tr>\n",
       "    <tr>\n",
       "      <th>2</th>\n",
       "      <td>0</td>\n",
       "      <td>0</td>\n",
       "    </tr>\n",
       "    <tr>\n",
       "      <th>3</th>\n",
       "      <td>0</td>\n",
       "      <td>0</td>\n",
       "    </tr>\n",
       "    <tr>\n",
       "      <th>4</th>\n",
       "      <td>0</td>\n",
       "      <td>1</td>\n",
       "    </tr>\n",
       "  </tbody>\n",
       "</table>\n",
       "</div>"
      ],
      "text/plain": [
       "   Germany  Spain\n",
       "0        0      0\n",
       "1        0      1\n",
       "2        0      0\n",
       "3        0      0\n",
       "4        0      1"
      ]
     },
     "execution_count": 13,
     "metadata": {},
     "output_type": "execute_result"
    }
   ],
   "source": [
    "geog.head()"
   ]
  },
  {
   "cell_type": "code",
   "execution_count": 14,
   "id": "276b36be",
   "metadata": {
    "execution": {
     "iopub.execute_input": "2022-05-30T17:21:05.058397Z",
     "iopub.status.busy": "2022-05-30T17:21:05.057370Z",
     "iopub.status.idle": "2022-05-30T17:21:05.067390Z",
     "shell.execute_reply": "2022-05-30T17:21:05.066634Z"
    },
    "id": "COBRuScB_4PP",
    "outputId": "0dce0045-7458-4e63-a471-6c12d872fe37",
    "papermill": {
     "duration": 0.033736,
     "end_time": "2022-05-30T17:21:05.069809",
     "exception": false,
     "start_time": "2022-05-30T17:21:05.036073",
     "status": "completed"
    },
    "tags": []
   },
   "outputs": [
    {
     "data": {
      "text/html": [
       "<div>\n",
       "<style scoped>\n",
       "    .dataframe tbody tr th:only-of-type {\n",
       "        vertical-align: middle;\n",
       "    }\n",
       "\n",
       "    .dataframe tbody tr th {\n",
       "        vertical-align: top;\n",
       "    }\n",
       "\n",
       "    .dataframe thead th {\n",
       "        text-align: right;\n",
       "    }\n",
       "</style>\n",
       "<table border=\"1\" class=\"dataframe\">\n",
       "  <thead>\n",
       "    <tr style=\"text-align: right;\">\n",
       "      <th></th>\n",
       "      <th>Male</th>\n",
       "    </tr>\n",
       "  </thead>\n",
       "  <tbody>\n",
       "    <tr>\n",
       "      <th>0</th>\n",
       "      <td>0</td>\n",
       "    </tr>\n",
       "    <tr>\n",
       "      <th>1</th>\n",
       "      <td>0</td>\n",
       "    </tr>\n",
       "    <tr>\n",
       "      <th>2</th>\n",
       "      <td>0</td>\n",
       "    </tr>\n",
       "    <tr>\n",
       "      <th>3</th>\n",
       "      <td>0</td>\n",
       "    </tr>\n",
       "    <tr>\n",
       "      <th>4</th>\n",
       "      <td>0</td>\n",
       "    </tr>\n",
       "  </tbody>\n",
       "</table>\n",
       "</div>"
      ],
      "text/plain": [
       "   Male\n",
       "0     0\n",
       "1     0\n",
       "2     0\n",
       "3     0\n",
       "4     0"
      ]
     },
     "execution_count": 14,
     "metadata": {},
     "output_type": "execute_result"
    }
   ],
   "source": [
    "gen.head()"
   ]
  },
  {
   "cell_type": "code",
   "execution_count": 15,
   "id": "663ddea0",
   "metadata": {
    "execution": {
     "iopub.execute_input": "2022-05-30T17:21:05.103380Z",
     "iopub.status.busy": "2022-05-30T17:21:05.102091Z",
     "iopub.status.idle": "2022-05-30T17:21:05.112903Z",
     "shell.execute_reply": "2022-05-30T17:21:05.112051Z"
    },
    "id": "rqWbcvX-_4Me",
    "papermill": {
     "duration": 0.029786,
     "end_time": "2022-05-30T17:21:05.115340",
     "exception": false,
     "start_time": "2022-05-30T17:21:05.085554",
     "status": "completed"
    },
    "tags": []
   },
   "outputs": [],
   "source": [
    "#Concat the encoded features to the main dataframe\n",
    "df_data = pd.concat([df_data,gen,geog],axis=1)\n",
    "\n",
    "#Drop the old categorical features\n",
    "df_data.drop(['Geography', 'Gender'], axis=1, inplace=True)"
   ]
  },
  {
   "cell_type": "code",
   "execution_count": 16,
   "id": "845fa38a",
   "metadata": {
    "execution": {
     "iopub.execute_input": "2022-05-30T17:21:05.147851Z",
     "iopub.status.busy": "2022-05-30T17:21:05.146931Z",
     "iopub.status.idle": "2022-05-30T17:21:05.162900Z",
     "shell.execute_reply": "2022-05-30T17:21:05.161872Z"
    },
    "id": "09vvZti3_4J3",
    "outputId": "05878d40-066a-440c-cac3-2580272d69d0",
    "papermill": {
     "duration": 0.034098,
     "end_time": "2022-05-30T17:21:05.165243",
     "exception": false,
     "start_time": "2022-05-30T17:21:05.131145",
     "status": "completed"
    },
    "tags": []
   },
   "outputs": [
    {
     "data": {
      "text/html": [
       "<div>\n",
       "<style scoped>\n",
       "    .dataframe tbody tr th:only-of-type {\n",
       "        vertical-align: middle;\n",
       "    }\n",
       "\n",
       "    .dataframe tbody tr th {\n",
       "        vertical-align: top;\n",
       "    }\n",
       "\n",
       "    .dataframe thead th {\n",
       "        text-align: right;\n",
       "    }\n",
       "</style>\n",
       "<table border=\"1\" class=\"dataframe\">\n",
       "  <thead>\n",
       "    <tr style=\"text-align: right;\">\n",
       "      <th></th>\n",
       "      <th>CreditScore</th>\n",
       "      <th>Age</th>\n",
       "      <th>Tenure</th>\n",
       "      <th>Balance</th>\n",
       "      <th>NumOfProducts</th>\n",
       "      <th>HasCrCard</th>\n",
       "      <th>IsActiveMember</th>\n",
       "      <th>EstimatedSalary</th>\n",
       "      <th>Exited</th>\n",
       "      <th>Male</th>\n",
       "      <th>Germany</th>\n",
       "      <th>Spain</th>\n",
       "    </tr>\n",
       "  </thead>\n",
       "  <tbody>\n",
       "    <tr>\n",
       "      <th>0</th>\n",
       "      <td>619</td>\n",
       "      <td>42</td>\n",
       "      <td>2</td>\n",
       "      <td>0.00</td>\n",
       "      <td>1</td>\n",
       "      <td>1</td>\n",
       "      <td>1</td>\n",
       "      <td>101348.88</td>\n",
       "      <td>1</td>\n",
       "      <td>0</td>\n",
       "      <td>0</td>\n",
       "      <td>0</td>\n",
       "    </tr>\n",
       "    <tr>\n",
       "      <th>1</th>\n",
       "      <td>608</td>\n",
       "      <td>41</td>\n",
       "      <td>1</td>\n",
       "      <td>83807.86</td>\n",
       "      <td>1</td>\n",
       "      <td>0</td>\n",
       "      <td>1</td>\n",
       "      <td>112542.58</td>\n",
       "      <td>0</td>\n",
       "      <td>0</td>\n",
       "      <td>0</td>\n",
       "      <td>1</td>\n",
       "    </tr>\n",
       "    <tr>\n",
       "      <th>2</th>\n",
       "      <td>502</td>\n",
       "      <td>42</td>\n",
       "      <td>8</td>\n",
       "      <td>159660.80</td>\n",
       "      <td>3</td>\n",
       "      <td>1</td>\n",
       "      <td>0</td>\n",
       "      <td>113931.57</td>\n",
       "      <td>1</td>\n",
       "      <td>0</td>\n",
       "      <td>0</td>\n",
       "      <td>0</td>\n",
       "    </tr>\n",
       "    <tr>\n",
       "      <th>3</th>\n",
       "      <td>699</td>\n",
       "      <td>39</td>\n",
       "      <td>1</td>\n",
       "      <td>0.00</td>\n",
       "      <td>2</td>\n",
       "      <td>0</td>\n",
       "      <td>0</td>\n",
       "      <td>93826.63</td>\n",
       "      <td>0</td>\n",
       "      <td>0</td>\n",
       "      <td>0</td>\n",
       "      <td>0</td>\n",
       "    </tr>\n",
       "    <tr>\n",
       "      <th>4</th>\n",
       "      <td>850</td>\n",
       "      <td>43</td>\n",
       "      <td>2</td>\n",
       "      <td>125510.82</td>\n",
       "      <td>1</td>\n",
       "      <td>1</td>\n",
       "      <td>1</td>\n",
       "      <td>79084.10</td>\n",
       "      <td>0</td>\n",
       "      <td>0</td>\n",
       "      <td>0</td>\n",
       "      <td>1</td>\n",
       "    </tr>\n",
       "  </tbody>\n",
       "</table>\n",
       "</div>"
      ],
      "text/plain": [
       "   CreditScore  Age  Tenure    Balance  NumOfProducts  HasCrCard  \\\n",
       "0          619   42       2       0.00              1          1   \n",
       "1          608   41       1   83807.86              1          0   \n",
       "2          502   42       8  159660.80              3          1   \n",
       "3          699   39       1       0.00              2          0   \n",
       "4          850   43       2  125510.82              1          1   \n",
       "\n",
       "   IsActiveMember  EstimatedSalary  Exited  Male  Germany  Spain  \n",
       "0               1        101348.88       1     0        0      0  \n",
       "1               1        112542.58       0     0        0      1  \n",
       "2               0        113931.57       1     0        0      0  \n",
       "3               0         93826.63       0     0        0      0  \n",
       "4               1         79084.10       0     0        0      1  "
      ]
     },
     "execution_count": 16,
     "metadata": {},
     "output_type": "execute_result"
    }
   ],
   "source": [
    "df_data.head()"
   ]
  },
  {
   "cell_type": "markdown",
   "id": "a9bb44b3",
   "metadata": {
    "id": "twXNqUYYLnAd",
    "papermill": {
     "duration": 0.014963,
     "end_time": "2022-05-30T17:21:05.196290",
     "exception": false,
     "start_time": "2022-05-30T17:21:05.181327",
     "status": "completed"
    },
    "tags": []
   },
   "source": [
    "<a id=4></a> \n",
    "## 4. Model building"
   ]
  },
  {
   "cell_type": "code",
   "execution_count": 17,
   "id": "0bd3c239",
   "metadata": {
    "execution": {
     "iopub.execute_input": "2022-05-30T17:21:05.229530Z",
     "iopub.status.busy": "2022-05-30T17:21:05.229047Z",
     "iopub.status.idle": "2022-05-30T17:21:05.237556Z",
     "shell.execute_reply": "2022-05-30T17:21:05.236771Z"
    },
    "id": "8h0zFHEe_4EY",
    "outputId": "373ff46c-bc5a-4937-9f4d-f0b50928bff7",
    "papermill": {
     "duration": 0.026413,
     "end_time": "2022-05-30T17:21:05.239374",
     "exception": false,
     "start_time": "2022-05-30T17:21:05.212961",
     "status": "completed"
    },
    "tags": []
   },
   "outputs": [
    {
     "data": {
      "text/plain": [
       "((10000, 11), (10000,))"
      ]
     },
     "execution_count": 17,
     "metadata": {},
     "output_type": "execute_result"
    }
   ],
   "source": [
    "#Seperate independent and dependent features\n",
    "X = df_data.loc[:, df_data.columns!='Exited']\n",
    "y = df_data['Exited']\n",
    "\n",
    "X.shape, y.shape"
   ]
  },
  {
   "cell_type": "code",
   "execution_count": 18,
   "id": "cea2756c",
   "metadata": {
    "execution": {
     "iopub.execute_input": "2022-05-30T17:21:05.272641Z",
     "iopub.status.busy": "2022-05-30T17:21:05.271954Z",
     "iopub.status.idle": "2022-05-30T17:21:05.281901Z",
     "shell.execute_reply": "2022-05-30T17:21:05.280751Z"
    },
    "id": "vbPUmweX_4Bp",
    "outputId": "543e05d5-7e8f-4895-d51c-c7070ae8b216",
    "papermill": {
     "duration": 0.029594,
     "end_time": "2022-05-30T17:21:05.284387",
     "exception": false,
     "start_time": "2022-05-30T17:21:05.254793",
     "status": "completed"
    },
    "tags": []
   },
   "outputs": [
    {
     "name": "stdout",
     "output_type": "stream",
     "text": [
      "Train (7000, 11) (7000,)\n",
      "Test (3000, 11) (3000,)\n"
     ]
    }
   ],
   "source": [
    "# Break off validation set from training data\n",
    "X_train, X_valid, y_train, y_valid = train_test_split(X, y, train_size=0.7, test_size=0.3, random_state=0)\n",
    "# summarize\n",
    "print('Train', X_train.shape, y_train.shape)\n",
    "print('Test', X_valid.shape, y_valid.shape)"
   ]
  },
  {
   "cell_type": "code",
   "execution_count": 19,
   "id": "3ae595fe",
   "metadata": {
    "execution": {
     "iopub.execute_input": "2022-05-30T17:21:05.318592Z",
     "iopub.status.busy": "2022-05-30T17:21:05.318145Z",
     "iopub.status.idle": "2022-05-30T17:21:05.333293Z",
     "shell.execute_reply": "2022-05-30T17:21:05.332276Z"
    },
    "id": "3qgbyxBu_3-r",
    "papermill": {
     "duration": 0.035453,
     "end_time": "2022-05-30T17:21:05.335774",
     "exception": false,
     "start_time": "2022-05-30T17:21:05.300321",
     "status": "completed"
    },
    "tags": []
   },
   "outputs": [],
   "source": [
    "# Feature Scaling\n",
    "scaler = StandardScaler()\n",
    "X_train_sc = scaler.fit_transform(X_train)\n",
    "X_valid_sc = scaler.transform(X_valid)"
   ]
  },
  {
   "cell_type": "markdown",
   "id": "dc59164b",
   "metadata": {
    "papermill": {
     "duration": 0.01584,
     "end_time": "2022-05-30T17:21:05.367049",
     "exception": false,
     "start_time": "2022-05-30T17:21:05.351209",
     "status": "completed"
    },
    "tags": []
   },
   "source": [
    "* The activation function helps to determine the output of a neural network. These type of functions are attached to each neuron in the network and determines whether it should be activated or not, based on whether each neuron's input is relevant for the model's prediction.\n",
    "* The sigmoid function is used on the output layer for a binary classification problem as it gives an output of either 0 or 1.\n",
    "* The ReLU (Rectified Linear Unit) function is used as an activation function on the hidden layers. It uses the equation max(0,z) which means it generates the maximum value between 0 and z\n",
    "* The dropout function is used to prevent overfitting. It deactivates some of the neurons in the given hidden layer."
   ]
  },
  {
   "cell_type": "code",
   "execution_count": 20,
   "id": "bb8e4b1e",
   "metadata": {
    "execution": {
     "iopub.execute_input": "2022-05-30T17:21:05.400686Z",
     "iopub.status.busy": "2022-05-30T17:21:05.400234Z",
     "iopub.status.idle": "2022-05-30T17:21:05.484113Z",
     "shell.execute_reply": "2022-05-30T17:21:05.482481Z"
    },
    "id": "N6-O2mlH_38A",
    "papermill": {
     "duration": 0.103293,
     "end_time": "2022-05-30T17:21:05.486632",
     "exception": false,
     "start_time": "2022-05-30T17:21:05.383339",
     "status": "completed"
    },
    "tags": []
   },
   "outputs": [
    {
     "name": "stderr",
     "output_type": "stream",
     "text": [
      "2022-05-30 17:21:05.443059: I tensorflow/core/common_runtime/process_util.cc:146] Creating new thread pool with default inter op setting: 2. Tune using inter_op_parallelism_threads for best performance.\n"
     ]
    }
   ],
   "source": [
    "#Initialise ANN\n",
    "classifier = Sequential()\n",
    "\n",
    "#Add input layer\n",
    "classifier.add(Dense(units=11,activation='relu'))\n",
    "\n",
    "#Add first hidden layer\n",
    "classifier.add(Dense(units=7, activation='relu'))\n",
    "classifier.add(Dropout(0.2))\n",
    "\n",
    "#Add second hidden layer\n",
    "classifier.add(Dense(units=7, activation='relu'))\n",
    "classifier.add(Dropout(0.2))\n",
    "\n",
    "#Add third hidden layer\n",
    "classifier.add(Dense(units=7, activation='relu'))\n",
    "classifier.add(Dropout(0.2))\n",
    "\n",
    "#Add output layer\n",
    "classifier.add(Dense(units=1, activation='sigmoid'))"
   ]
  },
  {
   "cell_type": "markdown",
   "id": "e1dd12b0",
   "metadata": {
    "papermill": {
     "duration": 0.015017,
     "end_time": "2022-05-30T17:21:05.516559",
     "exception": false,
     "start_time": "2022-05-30T17:21:05.501542",
     "status": "completed"
    },
    "tags": []
   },
   "source": [
    "* Optimizer is used to update the weights and bias during the back-propagation. The Adam optimizer uses noise smoothening and adaptive learning rate.\n",
    "* The binary cross-entropy loss function is used for binary classification problems. Here y is the actual value and ŷ is the predicted value."
   ]
  },
  {
   "cell_type": "code",
   "execution_count": 21,
   "id": "f1b12046",
   "metadata": {
    "execution": {
     "iopub.execute_input": "2022-05-30T17:21:05.549096Z",
     "iopub.status.busy": "2022-05-30T17:21:05.548511Z",
     "iopub.status.idle": "2022-05-30T17:21:05.573021Z",
     "shell.execute_reply": "2022-05-30T17:21:05.572259Z"
    },
    "id": "necjtqsJ_35J",
    "papermill": {
     "duration": 0.04381,
     "end_time": "2022-05-30T17:21:05.575617",
     "exception": false,
     "start_time": "2022-05-30T17:21:05.531807",
     "status": "completed"
    },
    "tags": []
   },
   "outputs": [],
   "source": [
    "#optimizer\n",
    "opt = Adam(learning_rate=0.01)\n",
    "\n",
    "#compile\n",
    "classifier.compile(optimizer=opt, loss='binary_crossentropy', metrics=['accuracy'])"
   ]
  },
  {
   "cell_type": "markdown",
   "id": "f13b06d5",
   "metadata": {
    "papermill": {
     "duration": 0.015335,
     "end_time": "2022-05-30T17:21:05.607653",
     "exception": false,
     "start_time": "2022-05-30T17:21:05.592318",
     "status": "completed"
    },
    "tags": []
   },
   "source": [
    "Early stopping is used to stop the Neural Network if there is no significant improvement in the model's accuracy."
   ]
  },
  {
   "cell_type": "code",
   "execution_count": 22,
   "id": "58c396c4",
   "metadata": {
    "execution": {
     "iopub.execute_input": "2022-05-30T17:21:05.640167Z",
     "iopub.status.busy": "2022-05-30T17:21:05.639617Z",
     "iopub.status.idle": "2022-05-30T17:21:05.646615Z",
     "shell.execute_reply": "2022-05-30T17:21:05.645423Z"
    },
    "id": "k7Zjjzgc_32X",
    "papermill": {
     "duration": 0.025995,
     "end_time": "2022-05-30T17:21:05.648955",
     "exception": false,
     "start_time": "2022-05-30T17:21:05.622960",
     "status": "completed"
    },
    "tags": []
   },
   "outputs": [],
   "source": [
    "#Early stopping\n",
    "early_stop = tf.keras.callbacks.EarlyStopping(\n",
    "    monitor='val_loss',\n",
    "    min_delta=0.0001,\n",
    "    patience=20,\n",
    "    verbose=1,\n",
    "    mode='auto',\n",
    "    baseline=None,\n",
    "    restore_best_weights=False,\n",
    ")\n",
    "\n",
    "#monitor: Quantity to be monitored.\n",
    "\n",
    "#min_delta: Minimum change in the monitored quantity to qualify as an improvement, i.e. an absolute change of less than min_delta, will count as no improvement.\n",
    "\n",
    "#patience: Number of epochs with no improvement after which training will be stopped.\n",
    "\n",
    "#verbose: Verbosity mode, 0 or 1. Mode 0 is silent, and mode 1 displays messages when the callback takes an action.\n",
    "\n",
    "#mode: One of {\"auto\", \"min\", \"max\"}. In min mode, training will stop when the quantity monitored has stopped decreasing; in \"max\" mode it will stop when the quantity monitored has stopped increasing; in \"auto\" mode, the direction is automatically inferred from the name of the monitored quantity.\n",
    "\n",
    "#baseline: Baseline value for the monitored quantity. Training will stop if the model doesn't show improvement over the baseline.\n",
    "\n",
    "#restore_best_weights: Whether to restore model weights from the epoch with the best value of the monitored quantity. If False, the model weights obtained at the last step of training are used. An epoch will be restored regardless of the performance relative to the baseline. If no epoch improves on baseline, training will run for patience epochs and restore weights from the best epoch in that set."
   ]
  },
  {
   "cell_type": "code",
   "execution_count": 23,
   "id": "86f43483",
   "metadata": {
    "execution": {
     "iopub.execute_input": "2022-05-30T17:21:05.681934Z",
     "iopub.status.busy": "2022-05-30T17:21:05.681569Z",
     "iopub.status.idle": "2022-05-30T17:22:06.977248Z",
     "shell.execute_reply": "2022-05-30T17:22:06.974266Z"
    },
    "id": "xT0NTE97_3zv",
    "outputId": "1906ef14-294d-4d7d-99f8-f5f38d7ef528",
    "papermill": {
     "duration": 61.315234,
     "end_time": "2022-05-30T17:22:06.980170",
     "exception": false,
     "start_time": "2022-05-30T17:21:05.664936",
     "status": "completed"
    },
    "tags": []
   },
   "outputs": [
    {
     "name": "stderr",
     "output_type": "stream",
     "text": [
      "2022-05-30 17:21:05.779367: I tensorflow/compiler/mlir/mlir_graph_optimization_pass.cc:185] None of the MLIR Optimization Passes are enabled (registered 2)\n"
     ]
    },
    {
     "name": "stdout",
     "output_type": "stream",
     "text": [
      "Epoch 1/1000\n",
      "469/469 [==============================] - 3s 3ms/step - loss: 0.4894 - accuracy: 0.7942 - val_loss: 0.4503 - val_accuracy: 0.8027\n",
      "Epoch 2/1000\n",
      "469/469 [==============================] - 1s 3ms/step - loss: 0.4483 - accuracy: 0.8104 - val_loss: 0.4418 - val_accuracy: 0.8092\n",
      "Epoch 3/1000\n",
      "469/469 [==============================] - 2s 3ms/step - loss: 0.4310 - accuracy: 0.8213 - val_loss: 0.4256 - val_accuracy: 0.8222\n",
      "Epoch 4/1000\n",
      "469/469 [==============================] - 2s 3ms/step - loss: 0.4110 - accuracy: 0.8268 - val_loss: 0.3940 - val_accuracy: 0.8377\n",
      "Epoch 5/1000\n",
      "469/469 [==============================] - 1s 3ms/step - loss: 0.4000 - accuracy: 0.8403 - val_loss: 0.3749 - val_accuracy: 0.8477\n",
      "Epoch 6/1000\n",
      "469/469 [==============================] - 1s 3ms/step - loss: 0.3866 - accuracy: 0.8458 - val_loss: 0.4002 - val_accuracy: 0.8248\n",
      "Epoch 7/1000\n",
      "469/469 [==============================] - 2s 3ms/step - loss: 0.3809 - accuracy: 0.8386 - val_loss: 0.3758 - val_accuracy: 0.8442\n",
      "Epoch 8/1000\n",
      "469/469 [==============================] - 1s 3ms/step - loss: 0.3796 - accuracy: 0.8477 - val_loss: 0.3830 - val_accuracy: 0.8252\n",
      "Epoch 9/1000\n",
      "469/469 [==============================] - 1s 3ms/step - loss: 0.3821 - accuracy: 0.8456 - val_loss: 0.3719 - val_accuracy: 0.8447\n",
      "Epoch 10/1000\n",
      "469/469 [==============================] - 1s 3ms/step - loss: 0.3791 - accuracy: 0.8441 - val_loss: 0.3921 - val_accuracy: 0.8243\n",
      "Epoch 11/1000\n",
      "469/469 [==============================] - 1s 3ms/step - loss: 0.3865 - accuracy: 0.8422 - val_loss: 0.3792 - val_accuracy: 0.8395\n",
      "Epoch 12/1000\n",
      "469/469 [==============================] - 1s 3ms/step - loss: 0.3791 - accuracy: 0.8422 - val_loss: 0.3847 - val_accuracy: 0.8299\n",
      "Epoch 13/1000\n",
      "469/469 [==============================] - 1s 3ms/step - loss: 0.3756 - accuracy: 0.8435 - val_loss: 0.3878 - val_accuracy: 0.8421\n",
      "Epoch 14/1000\n",
      "469/469 [==============================] - 1s 3ms/step - loss: 0.3737 - accuracy: 0.8488 - val_loss: 0.3748 - val_accuracy: 0.8447\n",
      "Epoch 15/1000\n",
      "469/469 [==============================] - 1s 3ms/step - loss: 0.3770 - accuracy: 0.8433 - val_loss: 0.4013 - val_accuracy: 0.8144\n",
      "Epoch 16/1000\n",
      "469/469 [==============================] - 1s 3ms/step - loss: 0.3867 - accuracy: 0.8424 - val_loss: 0.3877 - val_accuracy: 0.8369\n",
      "Epoch 17/1000\n",
      "469/469 [==============================] - 1s 3ms/step - loss: 0.3787 - accuracy: 0.8535 - val_loss: 0.3754 - val_accuracy: 0.8477\n",
      "Epoch 18/1000\n",
      "469/469 [==============================] - 1s 3ms/step - loss: 0.3713 - accuracy: 0.8439 - val_loss: 0.3835 - val_accuracy: 0.8425\n",
      "Epoch 19/1000\n",
      "469/469 [==============================] - 1s 3ms/step - loss: 0.3729 - accuracy: 0.8443 - val_loss: 0.3790 - val_accuracy: 0.8421\n",
      "Epoch 20/1000\n",
      "469/469 [==============================] - 1s 3ms/step - loss: 0.3786 - accuracy: 0.8426 - val_loss: 0.3842 - val_accuracy: 0.8377\n",
      "Epoch 21/1000\n",
      "469/469 [==============================] - 1s 3ms/step - loss: 0.3675 - accuracy: 0.8447 - val_loss: 0.3840 - val_accuracy: 0.8434\n",
      "Epoch 22/1000\n",
      "469/469 [==============================] - 1s 3ms/step - loss: 0.3747 - accuracy: 0.8464 - val_loss: 0.3820 - val_accuracy: 0.8356\n",
      "Epoch 23/1000\n",
      "469/469 [==============================] - 1s 3ms/step - loss: 0.3627 - accuracy: 0.8507 - val_loss: 0.3670 - val_accuracy: 0.8494\n",
      "Epoch 24/1000\n",
      "469/469 [==============================] - 1s 3ms/step - loss: 0.3673 - accuracy: 0.8490 - val_loss: 0.3774 - val_accuracy: 0.8416\n",
      "Epoch 25/1000\n",
      "469/469 [==============================] - 1s 3ms/step - loss: 0.3661 - accuracy: 0.8505 - val_loss: 0.3743 - val_accuracy: 0.8464\n",
      "Epoch 26/1000\n",
      "469/469 [==============================] - 1s 3ms/step - loss: 0.3588 - accuracy: 0.8520 - val_loss: 0.3741 - val_accuracy: 0.8429\n",
      "Epoch 27/1000\n",
      "469/469 [==============================] - 2s 4ms/step - loss: 0.3756 - accuracy: 0.8499 - val_loss: 0.3735 - val_accuracy: 0.8395\n",
      "Epoch 28/1000\n",
      "469/469 [==============================] - 1s 3ms/step - loss: 0.3711 - accuracy: 0.8450 - val_loss: 0.3716 - val_accuracy: 0.8507\n",
      "Epoch 29/1000\n",
      "469/469 [==============================] - 1s 3ms/step - loss: 0.3683 - accuracy: 0.8447 - val_loss: 0.3946 - val_accuracy: 0.8126\n",
      "Epoch 30/1000\n",
      "469/469 [==============================] - 1s 3ms/step - loss: 0.3662 - accuracy: 0.8486 - val_loss: 0.3678 - val_accuracy: 0.8511\n",
      "Epoch 31/1000\n",
      "469/469 [==============================] - 1s 3ms/step - loss: 0.3720 - accuracy: 0.8473 - val_loss: 0.3985 - val_accuracy: 0.8425\n",
      "Epoch 32/1000\n",
      "469/469 [==============================] - 1s 3ms/step - loss: 0.3652 - accuracy: 0.8445 - val_loss: 0.3810 - val_accuracy: 0.8408\n",
      "Epoch 33/1000\n",
      "469/469 [==============================] - 1s 3ms/step - loss: 0.3651 - accuracy: 0.8484 - val_loss: 0.4078 - val_accuracy: 0.8187\n",
      "Epoch 34/1000\n",
      "469/469 [==============================] - 1s 3ms/step - loss: 0.3708 - accuracy: 0.8411 - val_loss: 0.3799 - val_accuracy: 0.8425\n",
      "Epoch 35/1000\n",
      "469/469 [==============================] - 1s 3ms/step - loss: 0.3717 - accuracy: 0.8445 - val_loss: 0.3716 - val_accuracy: 0.8473\n",
      "Epoch 36/1000\n",
      "469/469 [==============================] - 1s 3ms/step - loss: 0.3607 - accuracy: 0.8456 - val_loss: 0.3946 - val_accuracy: 0.8217\n",
      "Epoch 37/1000\n",
      "469/469 [==============================] - 1s 3ms/step - loss: 0.3694 - accuracy: 0.8516 - val_loss: 0.3845 - val_accuracy: 0.8451\n",
      "Epoch 38/1000\n",
      "469/469 [==============================] - 1s 3ms/step - loss: 0.3643 - accuracy: 0.8494 - val_loss: 0.3941 - val_accuracy: 0.8377\n",
      "Epoch 39/1000\n",
      "469/469 [==============================] - 1s 3ms/step - loss: 0.3717 - accuracy: 0.8486 - val_loss: 0.3749 - val_accuracy: 0.8533\n",
      "Epoch 40/1000\n",
      "469/469 [==============================] - 1s 3ms/step - loss: 0.3725 - accuracy: 0.8437 - val_loss: 0.3794 - val_accuracy: 0.8425\n",
      "Epoch 41/1000\n",
      "469/469 [==============================] - 1s 3ms/step - loss: 0.3640 - accuracy: 0.8477 - val_loss: 0.3865 - val_accuracy: 0.8334\n",
      "Epoch 42/1000\n",
      "469/469 [==============================] - 2s 3ms/step - loss: 0.3614 - accuracy: 0.8477 - val_loss: 0.4216 - val_accuracy: 0.8412\n",
      "Epoch 43/1000\n",
      "469/469 [==============================] - 2s 3ms/step - loss: 0.3580 - accuracy: 0.8526 - val_loss: 0.3828 - val_accuracy: 0.8382\n",
      "Epoch 00043: early stopping\n"
     ]
    }
   ],
   "source": [
    "#Fit model\n",
    "model_history = classifier.fit(X_train_sc, y_train, validation_split=0.33, batch_size=10, epochs=1000, callbacks=early_stop)"
   ]
  },
  {
   "cell_type": "code",
   "execution_count": 24,
   "id": "a878e0ae",
   "metadata": {
    "execution": {
     "iopub.execute_input": "2022-05-30T17:22:07.150253Z",
     "iopub.status.busy": "2022-05-30T17:22:07.149771Z",
     "iopub.status.idle": "2022-05-30T17:22:07.155759Z",
     "shell.execute_reply": "2022-05-30T17:22:07.154766Z"
    },
    "id": "buvtOvmdVo1f",
    "outputId": "34678eed-b340-43a7-bc3b-3bf31749ca03",
    "papermill": {
     "duration": 0.092569,
     "end_time": "2022-05-30T17:22:07.157693",
     "exception": false,
     "start_time": "2022-05-30T17:22:07.065124",
     "status": "completed"
    },
    "tags": []
   },
   "outputs": [
    {
     "data": {
      "text/plain": [
       "dict_keys(['loss', 'accuracy', 'val_loss', 'val_accuracy'])"
      ]
     },
     "execution_count": 24,
     "metadata": {},
     "output_type": "execute_result"
    }
   ],
   "source": [
    "model_history.history.keys()"
   ]
  },
  {
   "cell_type": "code",
   "execution_count": 25,
   "id": "d8f9ecbe",
   "metadata": {
    "execution": {
     "iopub.execute_input": "2022-05-30T17:22:07.327942Z",
     "iopub.status.busy": "2022-05-30T17:22:07.327209Z",
     "iopub.status.idle": "2022-05-30T17:22:07.538792Z",
     "shell.execute_reply": "2022-05-30T17:22:07.538056Z"
    },
    "id": "vhIfcWYtVpI2",
    "outputId": "45785520-2d74-43a3-ad67-e2fe06a5c400",
    "papermill": {
     "duration": 0.297475,
     "end_time": "2022-05-30T17:22:07.540794",
     "exception": false,
     "start_time": "2022-05-30T17:22:07.243319",
     "status": "completed"
    },
    "tags": []
   },
   "outputs": [
    {
     "data": {
      "text/plain": [
       "<matplotlib.legend.Legend at 0x7fcc30311f90>"
      ]
     },
     "execution_count": 25,
     "metadata": {},
     "output_type": "execute_result"
    },
    {
     "data": {
      "image/png": "[encoded data removed]",
      "text/plain": [
       "<Figure size 432x288 with 1 Axes>"
      ]
     },
     "metadata": {
      "needs_background": "light"
     },
     "output_type": "display_data"
    }
   ],
   "source": [
    "#Summarize history for accuracy\n",
    "plt.plot(model_history.history['accuracy'])\n",
    "plt.plot(model_history.history['val_accuracy'])\n",
    "plt.title('Model accuracy')\n",
    "plt.ylabel('accuracy')\n",
    "plt.xlabel('epoch')\n",
    "plt.legend(['train', 'test'], loc='upper left')"
   ]
  },
  {
   "cell_type": "code",
   "execution_count": 26,
   "id": "fc17591a",
   "metadata": {
    "execution": {
     "iopub.execute_input": "2022-05-30T17:22:07.712497Z",
     "iopub.status.busy": "2022-05-30T17:22:07.711364Z",
     "iopub.status.idle": "2022-05-30T17:22:07.916269Z",
     "shell.execute_reply": "2022-05-30T17:22:07.915506Z"
    },
    "id": "kPp-87_bVpLy",
    "outputId": "240db9de-939d-4cdd-9d86-ca3ccba6db84",
    "papermill": {
     "duration": 0.294801,
     "end_time": "2022-05-30T17:22:07.918564",
     "exception": false,
     "start_time": "2022-05-30T17:22:07.623763",
     "status": "completed"
    },
    "tags": []
   },
   "outputs": [
    {
     "data": {
      "text/plain": [
       "<matplotlib.legend.Legend at 0x7fcc30f9a350>"
      ]
     },
     "execution_count": 26,
     "metadata": {},
     "output_type": "execute_result"
    },
    {
     "data": {
      "image/png": "[encoded data removed]",
      "text/plain": [
       "<Figure size 432x288 with 1 Axes>"
      ]
     },
     "metadata": {
      "needs_background": "light"
     },
     "output_type": "display_data"
    }
   ],
   "source": [
    "#Summarize history for loss\n",
    "plt.plot(model_history.history['loss'])\n",
    "plt.plot(model_history.history['val_loss'])\n",
    "plt.title('Model loss')\n",
    "plt.ylabel('loss')\n",
    "plt.xlabel('epoch')\n",
    "plt.legend(['train', 'test'], loc='upper left')"
   ]
  },
  {
   "cell_type": "code",
   "execution_count": null,
   "id": "366f5298",
   "metadata": {
    "papermill": {
     "duration": 0.083445,
     "end_time": "2022-05-30T17:22:08.086243",
     "exception": false,
     "start_time": "2022-05-30T17:22:08.002798",
     "status": "completed"
    },
    "tags": []
   },
   "outputs": [],
   "source": []
  },
  {
   "cell_type": "markdown",
   "id": "0b5578e2",
   "metadata": {
    "id": "1iMOZ8FsXaZc",
    "papermill": {
     "duration": 0.083159,
     "end_time": "2022-05-30T17:22:08.254054",
     "exception": false,
     "start_time": "2022-05-30T17:22:08.170895",
     "status": "completed"
    },
    "tags": []
   },
   "source": [
    "<a id=5></a> \n",
    "## 5. Test data Prediction"
   ]
  },
  {
   "cell_type": "code",
   "execution_count": 27,
   "id": "a6dcb4b6",
   "metadata": {
    "execution": {
     "iopub.execute_input": "2022-05-30T17:22:08.427604Z",
     "iopub.status.busy": "2022-05-30T17:22:08.427054Z",
     "iopub.status.idle": "2022-05-30T17:22:08.697724Z",
     "shell.execute_reply": "2022-05-30T17:22:08.696658Z"
    },
    "id": "VWdVuM3GVpOV",
    "outputId": "abde64fe-250b-468e-f430-3200e7ef416b",
    "papermill": {
     "duration": 0.35968,
     "end_time": "2022-05-30T17:22:08.699966",
     "exception": false,
     "start_time": "2022-05-30T17:22:08.340286",
     "status": "completed"
    },
    "tags": []
   },
   "outputs": [],
   "source": [
    "#make predictions\n",
    "y_pred = classifier.predict(X_valid_sc)\n",
    "y_pred = (y_pred >=0.5)"
   ]
  },
  {
   "cell_type": "code",
   "execution_count": 28,
   "id": "397aaaa2",
   "metadata": {
    "execution": {
     "iopub.execute_input": "2022-05-30T17:22:08.874283Z",
     "iopub.status.busy": "2022-05-30T17:22:08.873585Z",
     "iopub.status.idle": "2022-05-30T17:22:09.103266Z",
     "shell.execute_reply": "2022-05-30T17:22:09.102199Z"
    },
    "id": "JCPKJUZkVpQ4",
    "outputId": "6c94d437-ea69-4035-b031-6d5bce92b630",
    "papermill": {
     "duration": 0.318574,
     "end_time": "2022-05-30T17:22:09.105724",
     "exception": false,
     "start_time": "2022-05-30T17:22:08.787150",
     "status": "completed"
    },
    "tags": []
   },
   "outputs": [
    {
     "data": {
      "text/plain": [
       "Text(72.5, 0.5, 'Actual')"
      ]
     },
     "execution_count": 28,
     "metadata": {},
     "output_type": "execute_result"
    },
    {
     "data": {
      "image/png": "[encoded data removed]",
      "text/plain": [
       "<Figure size 720x504 with 2 Axes>"
      ]
     },
     "metadata": {
      "needs_background": "light"
     },
     "output_type": "display_data"
    }
   ],
   "source": [
    "#confusion matrix\n",
    "conf_matrix = confusion_matrix(y_valid, y_pred)\n",
    "plt.figure(figsize=(10,7))\n",
    "sns.heatmap(conf_matrix, annot=True,fmt='d')\n",
    "plt.xlabel('Predicted')\n",
    "plt.ylabel('Actual')"
   ]
  },
  {
   "cell_type": "code",
   "execution_count": 29,
   "id": "454f51dc",
   "metadata": {
    "execution": {
     "iopub.execute_input": "2022-05-30T17:22:09.283213Z",
     "iopub.status.busy": "2022-05-30T17:22:09.282257Z",
     "iopub.status.idle": "2022-05-30T17:22:09.289075Z",
     "shell.execute_reply": "2022-05-30T17:22:09.287835Z"
    },
    "id": "91_18Y2gVpTU",
    "outputId": "a084d320-581f-45a7-b891-776d6cd53a89",
    "papermill": {
     "duration": 0.097045,
     "end_time": "2022-05-30T17:22:09.291115",
     "exception": false,
     "start_time": "2022-05-30T17:22:09.194070",
     "status": "completed"
    },
    "tags": []
   },
   "outputs": [
    {
     "name": "stdout",
     "output_type": "stream",
     "text": [
      "0.845\n"
     ]
    }
   ],
   "source": [
    "#accuracy score\n",
    "print(accuracy_score(y_valid, y_pred))"
   ]
  },
  {
   "cell_type": "code",
   "execution_count": 30,
   "id": "b4a969c8",
   "metadata": {
    "execution": {
     "iopub.execute_input": "2022-05-30T17:22:09.464038Z",
     "iopub.status.busy": "2022-05-30T17:22:09.463374Z",
     "iopub.status.idle": "2022-05-30T17:22:09.477327Z",
     "shell.execute_reply": "2022-05-30T17:22:09.476431Z"
    },
    "id": "h2BsnEAsVpWK",
    "papermill": {
     "duration": 0.104068,
     "end_time": "2022-05-30T17:22:09.479743",
     "exception": false,
     "start_time": "2022-05-30T17:22:09.375675",
     "status": "completed"
    },
    "tags": []
   },
   "outputs": [
    {
     "name": "stdout",
     "output_type": "stream",
     "text": [
      "              precision    recall  f1-score   support\n",
      "\n",
      "           0       0.84      1.00      0.91      2379\n",
      "           1       0.95      0.26      0.41       621\n",
      "\n",
      "    accuracy                           0.84      3000\n",
      "   macro avg       0.90      0.63      0.66      3000\n",
      "weighted avg       0.86      0.84      0.81      3000\n",
      "\n"
     ]
    }
   ],
   "source": [
    "print(classification_report(y_valid, y_pred))"
   ]
  },
  {
   "cell_type": "code",
   "execution_count": null,
   "id": "b005b1f5",
   "metadata": {
    "id": "6ginlaNnVpY8",
    "papermill": {
     "duration": 0.084773,
     "end_time": "2022-05-30T17:22:09.648334",
     "exception": false,
     "start_time": "2022-05-30T17:22:09.563561",
     "status": "completed"
    },
    "tags": []
   },
   "outputs": [],
   "source": []
  },
  {
   "cell_type": "code",
   "execution_count": null,
   "id": "7d7583c1",
   "metadata": {
    "id": "HspIeBW3Vpbc",
    "papermill": {
     "duration": 0.084699,
     "end_time": "2022-05-30T17:22:09.817594",
     "exception": false,
     "start_time": "2022-05-30T17:22:09.732895",
     "status": "completed"
    },
    "tags": []
   },
   "outputs": [],
   "source": []
  }
 ],
 "metadata": {
  "kernelspec": {
   "display_name": "Python 3",
   "language": "python",
   "name": "python3"
  },
  "language_info": {
   "codemirror_mode": {
    "name": "ipython",
    "version": 3
   },
   "file_extension": ".py",
   "mimetype": "text/x-python",
   "name": "python",
   "nbconvert_exporter": "python",
   "pygments_lexer": "ipython3",
   "version": "3.7.12"
  },
  "papermill": {
   "default_parameters": {},
   "duration": 88.817337,
   "end_time": "2022-05-30T17:22:12.883040",
   "environment_variables": {},
   "exception": null,
   "input_path": "__notebook__.ipynb",
   "output_path": "__notebook__.ipynb",
   "parameters": {},
   "start_time": "2022-05-30T17:20:44.065703",
   "version": "2.3.4"
  }
 },
 "nbformat": 4,
 "nbformat_minor": 5
}
